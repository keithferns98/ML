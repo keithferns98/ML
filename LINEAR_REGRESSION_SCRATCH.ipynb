{
  "nbformat": 4,
  "nbformat_minor": 0,
  "metadata": {
    "colab": {
      "name": "LINEAR_REGRESSION_SCRATCH.ipynb",
      "provenance": [],
      "authorship_tag": "ABX9TyPtdeEJQJzX494b1T6sLo14",
      "include_colab_link": true
    },
    "kernelspec": {
      "name": "python3",
      "display_name": "Python 3"
    },
    "language_info": {
      "name": "python"
    }
  },
  "cells": [
    {
      "cell_type": "markdown",
      "metadata": {
        "id": "view-in-github",
        "colab_type": "text"
      },
      "source": [
        "<a href=\"https://colab.research.google.com/github/keithferns98/ML/blob/main/LINEAR_REGRESSION_SCRATCH.ipynb\" target=\"_parent\"><img src=\"https://colab.research.google.com/assets/colab-badge.svg\" alt=\"Open In Colab\"/></a>"
      ]
    },
    {
      "cell_type": "code",
      "metadata": {
        "id": "IEVZHTiUVmkB"
      },
      "source": [
        "import numpy as np\n",
        "import math\n",
        "#y=wx+b or y_pred=mx+c\n",
        "#w=weights or slope\n",
        "#x=Inputs\n",
        "#b=Interceptor coefficient\n",
        "from sklearn import datasets\n",
        "import matplotlib.pyplot as plt\n",
        "from sklearn.model_selection import train_test_split\n"
      ],
      "execution_count": 9,
      "outputs": []
    },
    {
      "cell_type": "code",
      "metadata": {
        "id": "W2OAVagIWkhm"
      },
      "source": [
        "X,y=datasets.make_regression(n_samples=100,n_features=1,noise=20,random_state=4)\n",
        "X_train,X_test,y_train,y_test=train_test_split(X,y,test_size=0.2,random_state=1234)"
      ],
      "execution_count": 10,
      "outputs": []
    },
    {
      "cell_type": "code",
      "metadata": {
        "id": "NfxncCbiVq0B"
      },
      "source": [
        "class Linear_Regression:\n",
        "    def __init__(self,lr=0.001,n_iters=10,):\n",
        "        self.lr=lr\n",
        "        self.n_iters=n_iters\n",
        "        self.weights=None\n",
        "        self.bias=None\n",
        "\n",
        "    def fit(self,X,y):\n",
        "        n_samples,n_features=X.shape\n",
        "        self.weights=np.zeros(n_features)\n",
        "        self.bias=0\n",
        "        for _ in range(self.n_iters):\n",
        "         \n",
        "          y_pred=np.dot(X,self.weights)+self.bias\n",
        "          #formula for finding the partial derivative for weight and bias\n",
        "          dw=(1/n_samples)*np.dot(X.T,(y_pred-y))\n",
        "          db=(1/n_samples)*np.sum(y_pred-y)\n",
        "          #Update weights and bias usings gradient or partial deravative wrt weights and bias\n",
        "          #w=w-lr*dw and b=b-lr*db\n",
        "          self.weights-=self.lr*dw\n",
        "          self.bias-=self.lr*db\n",
        "          \n",
        "    def predict(self,X):\n",
        "      y_pred=np.dot(X,self.weights)+self.bias\n",
        "      return y_pred\n",
        "    \n",
        "def mse(y_true,y_pred):\n",
        "    return np.mean((y_true-y_pred)**2)\n",
        "        "
      ],
      "execution_count": 58,
      "outputs": []
    },
    {
      "cell_type": "code",
      "metadata": {
        "id": "SS9MrrpVa_X7"
      },
      "source": [
        "reg=Linear_Regression()"
      ],
      "execution_count": 53,
      "outputs": []
    },
    {
      "cell_type": "code",
      "metadata": {
        "id": "qB4sB3WacH1l"
      },
      "source": [
        "reg.fit(X_train,y_train)\n",
        "preds=reg.predict(X_test)\n",
        "mse_val=mse(y_test,preds)"
      ],
      "execution_count": 55,
      "outputs": []
    },
    {
      "cell_type": "code",
      "metadata": {
        "colab": {
          "base_uri": "https://localhost:8080/"
        },
        "id": "fhsOsDeucLUY",
        "outputId": "1f81468c-db37-40b8-ae47-bb6c4d227284"
      },
      "source": [
        "mse_val"
      ],
      "execution_count": 57,
      "outputs": [
        {
          "output_type": "execute_result",
          "data": {
            "text/plain": [
              "4025.644227716447"
            ]
          },
          "metadata": {},
          "execution_count": 57
        }
      ]
    },
    {
      "cell_type": "code",
      "metadata": {
        "colab": {
          "base_uri": "https://localhost:8080/"
        },
        "id": "8z3LxWCoeQuJ",
        "outputId": "d7132692-94e1-443b-8487-0bfdda3215a7"
      },
      "source": [
        "anp.mean((y_test-preds)**2)"
      ],
      "execution_count": 51,
      "outputs": [
        {
          "output_type": "execute_result",
          "data": {
            "text/plain": [
              "4025.644227716447"
            ]
          },
          "metadata": {},
          "execution_count": 51
        }
      ]
    },
    {
      "cell_type": "code",
      "metadata": {
        "id": "Zt_8uWJ5eoSS"
      },
      "source": [
        ""
      ],
      "execution_count": null,
      "outputs": []
    }
  ]
}
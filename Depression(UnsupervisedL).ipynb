{
  "nbformat": 4,
  "nbformat_minor": 0,
  "metadata": {
    "colab": {
      "name": "Depression(UnsupervisedL).ipynb",
      "provenance": [],
      "authorship_tag": "ABX9TyPDyQpSSUE5Z19gg98helff",
      "include_colab_link": true
    },
    "kernelspec": {
      "name": "python3",
      "display_name": "Python 3"
    },
    "language_info": {
      "name": "python"
    }
  },
  "cells": [
    {
      "cell_type": "markdown",
      "metadata": {
        "id": "view-in-github",
        "colab_type": "text"
      },
      "source": [
        "<a href=\"https://colab.research.google.com/github/keithferns98/ML/blob/main/Depression(UnsupervisedL).ipynb\" target=\"_parent\"><img src=\"https://colab.research.google.com/assets/colab-badge.svg\" alt=\"Open In Colab\"/></a>"
      ]
    },
    {
      "cell_type": "code",
      "metadata": {
        "id": "8ZuHrUC47_-e"
      },
      "source": [
        "import numpy as np\n",
        "from sklearn.cluster import KMeans\n",
        "import pandas as pd\n",
        "import matplotlib.pyplot as plt\n",
        "% matplotlib inline \n",
        "import seaborn as sns\n",
        "from sklearn.metrics import silhouette_samples,silhouette_score\n",
        "from mpl_toolkits.mplot3d import Axes3D"
      ],
      "execution_count": 1,
      "outputs": []
    },
    {
      "cell_type": "code",
      "metadata": {
        "colab": {
          "base_uri": "https://localhost:8080/",
          "height": 202
        },
        "id": "lU_Ji6L88yp5",
        "outputId": "52e40ff1-f538-48f0-d1fd-f91b61dd8f69"
      },
      "source": [
        "df=pd.read_csv('Depression.csv')\n",
        "df.head()"
      ],
      "execution_count": 2,
      "outputs": [
        {
          "output_type": "execute_result",
          "data": {
            "text/html": [
              "<div>\n",
              "<style scoped>\n",
              "    .dataframe tbody tr th:only-of-type {\n",
              "        vertical-align: middle;\n",
              "    }\n",
              "\n",
              "    .dataframe tbody tr th {\n",
              "        vertical-align: top;\n",
              "    }\n",
              "\n",
              "    .dataframe thead th {\n",
              "        text-align: right;\n",
              "    }\n",
              "</style>\n",
              "<table border=\"1\" class=\"dataframe\">\n",
              "  <thead>\n",
              "    <tr style=\"text-align: right;\">\n",
              "      <th></th>\n",
              "      <th>id</th>\n",
              "      <th>simplicity</th>\n",
              "      <th>fatalism</th>\n",
              "      <th>depression</th>\n",
              "      <th>adjsimp</th>\n",
              "      <th>adjfatal</th>\n",
              "      <th>adjdep</th>\n",
              "    </tr>\n",
              "  </thead>\n",
              "  <tbody>\n",
              "    <tr>\n",
              "      <th>0</th>\n",
              "      <td>1</td>\n",
              "      <td>0.92983</td>\n",
              "      <td>0.35589</td>\n",
              "      <td>0.59870</td>\n",
              "      <td>0.75934</td>\n",
              "      <td>0.10673</td>\n",
              "      <td>0.41865</td>\n",
              "    </tr>\n",
              "    <tr>\n",
              "      <th>1</th>\n",
              "      <td>2</td>\n",
              "      <td>0.91097</td>\n",
              "      <td>1.18439</td>\n",
              "      <td>0.72787</td>\n",
              "      <td>0.72717</td>\n",
              "      <td>0.99915</td>\n",
              "      <td>0.51688</td>\n",
              "    </tr>\n",
              "    <tr>\n",
              "      <th>2</th>\n",
              "      <td>3</td>\n",
              "      <td>0.53366</td>\n",
              "      <td>-0.05837</td>\n",
              "      <td>0.53411</td>\n",
              "      <td>0.62176</td>\n",
              "      <td>0.03811</td>\n",
              "      <td>0.70699</td>\n",
              "    </tr>\n",
              "    <tr>\n",
              "      <th>3</th>\n",
              "      <td>4</td>\n",
              "      <td>0.74118</td>\n",
              "      <td>0.35589</td>\n",
              "      <td>0.56641</td>\n",
              "      <td>0.83522</td>\n",
              "      <td>0.42218</td>\n",
              "      <td>0.65639</td>\n",
              "    </tr>\n",
              "    <tr>\n",
              "      <th>4</th>\n",
              "      <td>5</td>\n",
              "      <td>0.53366</td>\n",
              "      <td>0.77014</td>\n",
              "      <td>0.50182</td>\n",
              "      <td>0.47697</td>\n",
              "      <td>0.81423</td>\n",
              "      <td>0.53518</td>\n",
              "    </tr>\n",
              "  </tbody>\n",
              "</table>\n",
              "</div>"
            ],
            "text/plain": [
              "   id  simplicity  fatalism  depression  adjsimp  adjfatal   adjdep\n",
              "0   1     0.92983   0.35589     0.59870  0.75934   0.10673  0.41865\n",
              "1   2     0.91097   1.18439     0.72787  0.72717   0.99915  0.51688\n",
              "2   3     0.53366  -0.05837     0.53411  0.62176   0.03811  0.70699\n",
              "3   4     0.74118   0.35589     0.56641  0.83522   0.42218  0.65639\n",
              "4   5     0.53366   0.77014     0.50182  0.47697   0.81423  0.53518"
            ]
          },
          "metadata": {},
          "execution_count": 2
        }
      ]
    },
    {
      "cell_type": "code",
      "metadata": {
        "id": "kv0xhTSC9KeP"
      },
      "source": [
        "df.drop('id',axis=1,inplace=True)"
      ],
      "execution_count": 3,
      "outputs": []
    },
    {
      "cell_type": "code",
      "metadata": {
        "colab": {
          "base_uri": "https://localhost:8080/"
        },
        "id": "_6DqCWGm9UHT",
        "outputId": "afd18e5e-dd41-4b1a-f89b-6e7fa7016dc1"
      },
      "source": [
        "df.info()"
      ],
      "execution_count": 4,
      "outputs": [
        {
          "output_type": "stream",
          "text": [
            "<class 'pandas.core.frame.DataFrame'>\n",
            "RangeIndex: 82 entries, 0 to 81\n",
            "Data columns (total 6 columns):\n",
            " #   Column      Non-Null Count  Dtype  \n",
            "---  ------      --------------  -----  \n",
            " 0   simplicity  82 non-null     float64\n",
            " 1   fatalism    82 non-null     float64\n",
            " 2   depression  82 non-null     float64\n",
            " 3   adjsimp     82 non-null     float64\n",
            " 4   adjfatal    82 non-null     float64\n",
            " 5   adjdep      82 non-null     float64\n",
            "dtypes: float64(6)\n",
            "memory usage: 4.0 KB\n"
          ],
          "name": "stdout"
        }
      ]
    },
    {
      "cell_type": "code",
      "metadata": {
        "colab": {
          "base_uri": "https://localhost:8080/",
          "height": 232
        },
        "id": "dD7gYFqV9V85",
        "outputId": "6f908a8e-b40f-4d42-d20e-01bb70421674"
      },
      "source": [
        "df.describe().transpose()"
      ],
      "execution_count": 5,
      "outputs": [
        {
          "output_type": "execute_result",
          "data": {
            "text/html": [
              "<div>\n",
              "<style scoped>\n",
              "    .dataframe tbody tr th:only-of-type {\n",
              "        vertical-align: middle;\n",
              "    }\n",
              "\n",
              "    .dataframe tbody tr th {\n",
              "        vertical-align: top;\n",
              "    }\n",
              "\n",
              "    .dataframe thead th {\n",
              "        text-align: right;\n",
              "    }\n",
              "</style>\n",
              "<table border=\"1\" class=\"dataframe\">\n",
              "  <thead>\n",
              "    <tr style=\"text-align: right;\">\n",
              "      <th></th>\n",
              "      <th>count</th>\n",
              "      <th>mean</th>\n",
              "      <th>std</th>\n",
              "      <th>min</th>\n",
              "      <th>25%</th>\n",
              "      <th>50%</th>\n",
              "      <th>75%</th>\n",
              "      <th>max</th>\n",
              "    </tr>\n",
              "  </thead>\n",
              "  <tbody>\n",
              "    <tr>\n",
              "      <th>simplicity</th>\n",
              "      <td>82.0</td>\n",
              "      <td>1.000000</td>\n",
              "      <td>0.500000</td>\n",
              "      <td>0.25068</td>\n",
              "      <td>0.656282</td>\n",
              "      <td>0.882665</td>\n",
              "      <td>1.26940</td>\n",
              "      <td>2.85408</td>\n",
              "    </tr>\n",
              "    <tr>\n",
              "      <th>fatalism</th>\n",
              "      <td>82.0</td>\n",
              "      <td>1.000000</td>\n",
              "      <td>0.500001</td>\n",
              "      <td>-0.05837</td>\n",
              "      <td>0.563010</td>\n",
              "      <td>0.977270</td>\n",
              "      <td>1.39152</td>\n",
              "      <td>2.22003</td>\n",
              "    </tr>\n",
              "    <tr>\n",
              "      <th>depression</th>\n",
              "      <td>82.0</td>\n",
              "      <td>1.000001</td>\n",
              "      <td>0.500000</td>\n",
              "      <td>0.46953</td>\n",
              "      <td>0.566410</td>\n",
              "      <td>0.824750</td>\n",
              "      <td>1.37373</td>\n",
              "      <td>2.24565</td>\n",
              "    </tr>\n",
              "    <tr>\n",
              "      <th>adjsimp</th>\n",
              "      <td>82.0</td>\n",
              "      <td>1.000000</td>\n",
              "      <td>0.499999</td>\n",
              "      <td>0.23569</td>\n",
              "      <td>0.697958</td>\n",
              "      <td>0.968490</td>\n",
              "      <td>1.20179</td>\n",
              "      <td>2.94977</td>\n",
              "    </tr>\n",
              "    <tr>\n",
              "      <th>adjfatal</th>\n",
              "      <td>82.0</td>\n",
              "      <td>1.000000</td>\n",
              "      <td>0.500000</td>\n",
              "      <td>0.03012</td>\n",
              "      <td>0.731598</td>\n",
              "      <td>0.924290</td>\n",
              "      <td>1.29912</td>\n",
              "      <td>2.24931</td>\n",
              "    </tr>\n",
              "    <tr>\n",
              "      <th>adjdep</th>\n",
              "      <td>82.0</td>\n",
              "      <td>1.000000</td>\n",
              "      <td>0.500000</td>\n",
              "      <td>0.23454</td>\n",
              "      <td>0.596565</td>\n",
              "      <td>0.967845</td>\n",
              "      <td>1.26175</td>\n",
              "      <td>2.78763</td>\n",
              "    </tr>\n",
              "  </tbody>\n",
              "</table>\n",
              "</div>"
            ],
            "text/plain": [
              "            count      mean       std  ...       50%      75%      max\n",
              "simplicity   82.0  1.000000  0.500000  ...  0.882665  1.26940  2.85408\n",
              "fatalism     82.0  1.000000  0.500001  ...  0.977270  1.39152  2.22003\n",
              "depression   82.0  1.000001  0.500000  ...  0.824750  1.37373  2.24565\n",
              "adjsimp      82.0  1.000000  0.499999  ...  0.968490  1.20179  2.94977\n",
              "adjfatal     82.0  1.000000  0.500000  ...  0.924290  1.29912  2.24931\n",
              "adjdep       82.0  1.000000  0.500000  ...  0.967845  1.26175  2.78763\n",
              "\n",
              "[6 rows x 8 columns]"
            ]
          },
          "metadata": {},
          "execution_count": 5
        }
      ]
    },
    {
      "cell_type": "code",
      "metadata": {
        "id": "VcLjOYEA91uW"
      },
      "source": [
        "from scipy.stats import zscore\n",
        "df_z=df.apply(zscore)"
      ],
      "execution_count": 6,
      "outputs": []
    },
    {
      "cell_type": "code",
      "metadata": {
        "colab": {
          "base_uri": "https://localhost:8080/",
          "height": 202
        },
        "id": "Fjny2o4-Rn8E",
        "outputId": "b9027b03-d760-4513-b1f7-2cbe30874960"
      },
      "source": [
        "df_z.head()"
      ],
      "execution_count": 7,
      "outputs": [
        {
          "output_type": "execute_result",
          "data": {
            "text/html": [
              "<div>\n",
              "<style scoped>\n",
              "    .dataframe tbody tr th:only-of-type {\n",
              "        vertical-align: middle;\n",
              "    }\n",
              "\n",
              "    .dataframe tbody tr th {\n",
              "        vertical-align: top;\n",
              "    }\n",
              "\n",
              "    .dataframe thead th {\n",
              "        text-align: right;\n",
              "    }\n",
              "</style>\n",
              "<table border=\"1\" class=\"dataframe\">\n",
              "  <thead>\n",
              "    <tr style=\"text-align: right;\">\n",
              "      <th></th>\n",
              "      <th>simplicity</th>\n",
              "      <th>fatalism</th>\n",
              "      <th>depression</th>\n",
              "      <th>adjsimp</th>\n",
              "      <th>adjfatal</th>\n",
              "      <th>adjdep</th>\n",
              "    </tr>\n",
              "  </thead>\n",
              "  <tbody>\n",
              "    <tr>\n",
              "      <th>0</th>\n",
              "      <td>-0.141205</td>\n",
              "      <td>-1.296147</td>\n",
              "      <td>-0.807541</td>\n",
              "      <td>-0.484282</td>\n",
              "      <td>-1.797534</td>\n",
              "      <td>-1.169856</td>\n",
              "    </tr>\n",
              "    <tr>\n",
              "      <th>1</th>\n",
              "      <td>-0.179157</td>\n",
              "      <td>0.371048</td>\n",
              "      <td>-0.547611</td>\n",
              "      <td>-0.549018</td>\n",
              "      <td>-0.001710</td>\n",
              "      <td>-0.972187</td>\n",
              "    </tr>\n",
              "    <tr>\n",
              "      <th>2</th>\n",
              "      <td>-0.938421</td>\n",
              "      <td>-2.129764</td>\n",
              "      <td>-0.937516</td>\n",
              "      <td>-0.761136</td>\n",
              "      <td>-1.935619</td>\n",
              "      <td>-0.589627</td>\n",
              "    </tr>\n",
              "    <tr>\n",
              "      <th>3</th>\n",
              "      <td>-0.520827</td>\n",
              "      <td>-1.296147</td>\n",
              "      <td>-0.872518</td>\n",
              "      <td>-0.331588</td>\n",
              "      <td>-1.162751</td>\n",
              "      <td>-0.691450</td>\n",
              "    </tr>\n",
              "    <tr>\n",
              "      <th>4</th>\n",
              "      <td>-0.938421</td>\n",
              "      <td>-0.462549</td>\n",
              "      <td>-1.002493</td>\n",
              "      <td>-1.052499</td>\n",
              "      <td>-0.373826</td>\n",
              "      <td>-0.935361</td>\n",
              "    </tr>\n",
              "  </tbody>\n",
              "</table>\n",
              "</div>"
            ],
            "text/plain": [
              "   simplicity  fatalism  depression   adjsimp  adjfatal    adjdep\n",
              "0   -0.141205 -1.296147   -0.807541 -0.484282 -1.797534 -1.169856\n",
              "1   -0.179157  0.371048   -0.547611 -0.549018 -0.001710 -0.972187\n",
              "2   -0.938421 -2.129764   -0.937516 -0.761136 -1.935619 -0.589627\n",
              "3   -0.520827 -1.296147   -0.872518 -0.331588 -1.162751 -0.691450\n",
              "4   -0.938421 -0.462549   -1.002493 -1.052499 -0.373826 -0.935361"
            ]
          },
          "metadata": {},
          "execution_count": 7
        }
      ]
    },
    {
      "cell_type": "code",
      "metadata": {
        "colab": {
          "base_uri": "https://localhost:8080/",
          "height": 312
        },
        "id": "YzAiuo_zRqvb",
        "outputId": "bace83be-11cc-4ba0-ef18-d90a2ad6a82f"
      },
      "source": [
        "from scipy.spatial.distance import cdist\n",
        "clusters=range(1,10)\n",
        "meanDistortions=[]\n",
        "\n",
        "for k in clusters:\n",
        "  km=KMeans(n_clusters=k)\n",
        "  km.fit(df)\n",
        "  predict=km.predict(df)\n",
        "  meanDistortions.append(sum(np.min(cdist(df,km.cluster_centers_,'euclidean'),axis=1))/df.shape[0])\n",
        "\n",
        "plt.plot(clusters,meanDistortions,'*-')\n",
        "plt.xlabel('k')\n",
        "plt.ylabel('Average Distortion')\n",
        "plt.title('Selecting k with elbw method')"
      ],
      "execution_count": 8,
      "outputs": [
        {
          "output_type": "execute_result",
          "data": {
            "text/plain": [
              "Text(0.5, 1.0, 'Selecting k with elbw method')"
            ]
          },
          "metadata": {},
          "execution_count": 8
        },
        {
          "output_type": "display_data",
          "data": {
            "image/png": "[encoded data removed]",
            "text/plain": [
              "<Figure size 432x288 with 1 Axes>"
            ]
          },
          "metadata": {
            "needs_background": "light"
          }
        }
      ]
    },
    {
      "cell_type": "code",
      "metadata": {
        "id": "DxDnbVp51zz1"
      },
      "source": [
        "kmeans=KMeans(n_clusters=3)"
      ],
      "execution_count": 9,
      "outputs": []
    },
    {
      "cell_type": "code",
      "metadata": {
        "colab": {
          "base_uri": "https://localhost:8080/"
        },
        "id": "s3LjHd9S3ryA",
        "outputId": "697cb3e1-7276-4ba7-b788-b905038de60a"
      },
      "source": [
        "kmeans.fit(df_z)"
      ],
      "execution_count": 10,
      "outputs": [
        {
          "output_type": "execute_result",
          "data": {
            "text/plain": [
              "KMeans(algorithm='auto', copy_x=True, init='k-means++', max_iter=300,\n",
              "       n_clusters=3, n_init=10, n_jobs=None, precompute_distances='auto',\n",
              "       random_state=None, tol=0.0001, verbose=0)"
            ]
          },
          "metadata": {},
          "execution_count": 10
        }
      ]
    },
    {
      "cell_type": "code",
      "metadata": {
        "id": "gGPecljN3wKb"
      },
      "source": [
        "centroids=kmeans.cluster_centers_"
      ],
      "execution_count": 11,
      "outputs": []
    },
    {
      "cell_type": "code",
      "metadata": {
        "colab": {
          "base_uri": "https://localhost:8080/"
        },
        "id": "f4gvfwaA32dQ",
        "outputId": "60445538-ad51-43d6-f780-ca079020473b"
      },
      "source": [
        "centroids"
      ],
      "execution_count": 12,
      "outputs": [
        {
          "output_type": "execute_result",
          "data": {
            "text/plain": [
              "array([[-0.60393647, -0.72164273, -0.90062454, -0.48447657, -0.63244733,\n",
              "        -0.83635699],\n",
              "       [-0.00240129,  0.30593064,  0.47588456, -0.15570731,  0.21543758,\n",
              "         0.41698529],\n",
              "       [ 1.72480697,  1.30084619,  1.39190785,  1.7621744 ,  1.26973449,\n",
              "         1.35397533]])"
            ]
          },
          "metadata": {},
          "execution_count": 12
        }
      ]
    },
    {
      "cell_type": "code",
      "metadata": {
        "colab": {
          "base_uri": "https://localhost:8080/"
        },
        "id": "5SIA3Cfj33lo",
        "outputId": "08eaa336-439f-43b9-e9d4-07a50c2ae672"
      },
      "source": [
        "centroids_df=pd.DataFrame(centroids,columns=list(df_z))\n",
        "print(centroids_df)"
      ],
      "execution_count": 13,
      "outputs": [
        {
          "output_type": "stream",
          "text": [
            "   simplicity  fatalism  depression   adjsimp  adjfatal    adjdep\n",
            "0   -0.603936 -0.721643   -0.900625 -0.484477 -0.632447 -0.836357\n",
            "1   -0.002401  0.305931    0.475885 -0.155707  0.215438  0.416985\n",
            "2    1.724807  1.300846    1.391908  1.762174  1.269734  1.353975\n"
          ],
          "name": "stdout"
        }
      ]
    },
    {
      "cell_type": "code",
      "metadata": {
        "colab": {
          "base_uri": "https://localhost:8080/"
        },
        "id": "3wkB9jFH42p7",
        "outputId": "4bf529e2-fd16-4665-9923-ad5a1f9b3cfa"
      },
      "source": [
        "kmeans.labels_"
      ],
      "execution_count": 14,
      "outputs": [
        {
          "output_type": "execute_result",
          "data": {
            "text/plain": [
              "array([0, 0, 0, 0, 0, 0, 0, 0, 0, 0, 0, 0, 0, 0, 0, 1, 0, 1, 0, 0, 0, 1,\n",
              "       0, 0, 1, 0, 0, 0, 0, 0, 0, 0, 0, 0, 0, 0, 0, 0, 0, 0, 0, 1, 1, 1,\n",
              "       1, 1, 1, 2, 1, 2, 1, 1, 2, 1, 1, 1, 1, 1, 1, 1, 1, 1, 1, 1, 2, 1,\n",
              "       2, 2, 2, 1, 2, 2, 1, 1, 1, 2, 2, 1, 2, 2, 1, 1], dtype=int32)"
            ]
          },
          "metadata": {},
          "execution_count": 14
        }
      ]
    },
    {
      "cell_type": "code",
      "metadata": {
        "id": "kZwhS-3c7BQc"
      },
      "source": [
        "df_labels=pd.DataFrame(kmeans.labels_,columns=list(['labels']))\n"
      ],
      "execution_count": 30,
      "outputs": []
    },
    {
      "cell_type": "code",
      "metadata": {
        "colab": {
          "base_uri": "https://localhost:8080/",
          "height": 414
        },
        "id": "b-iOcpWj9p2L",
        "outputId": "f3e3a43e-24c2-488d-b19d-4f867a3b77f4"
      },
      "source": [
        "df_labels['labels']=df_labels['labels'].astype('category')\n",
        "df_labels"
      ],
      "execution_count": 31,
      "outputs": [
        {
          "output_type": "execute_result",
          "data": {
            "text/html": [
              "<div>\n",
              "<style scoped>\n",
              "    .dataframe tbody tr th:only-of-type {\n",
              "        vertical-align: middle;\n",
              "    }\n",
              "\n",
              "    .dataframe tbody tr th {\n",
              "        vertical-align: top;\n",
              "    }\n",
              "\n",
              "    .dataframe thead th {\n",
              "        text-align: right;\n",
              "    }\n",
              "</style>\n",
              "<table border=\"1\" class=\"dataframe\">\n",
              "  <thead>\n",
              "    <tr style=\"text-align: right;\">\n",
              "      <th></th>\n",
              "      <th>labels</th>\n",
              "    </tr>\n",
              "  </thead>\n",
              "  <tbody>\n",
              "    <tr>\n",
              "      <th>0</th>\n",
              "      <td>0</td>\n",
              "    </tr>\n",
              "    <tr>\n",
              "      <th>1</th>\n",
              "      <td>0</td>\n",
              "    </tr>\n",
              "    <tr>\n",
              "      <th>2</th>\n",
              "      <td>0</td>\n",
              "    </tr>\n",
              "    <tr>\n",
              "      <th>3</th>\n",
              "      <td>0</td>\n",
              "    </tr>\n",
              "    <tr>\n",
              "      <th>4</th>\n",
              "      <td>0</td>\n",
              "    </tr>\n",
              "    <tr>\n",
              "      <th>...</th>\n",
              "      <td>...</td>\n",
              "    </tr>\n",
              "    <tr>\n",
              "      <th>77</th>\n",
              "      <td>1</td>\n",
              "    </tr>\n",
              "    <tr>\n",
              "      <th>78</th>\n",
              "      <td>2</td>\n",
              "    </tr>\n",
              "    <tr>\n",
              "      <th>79</th>\n",
              "      <td>2</td>\n",
              "    </tr>\n",
              "    <tr>\n",
              "      <th>80</th>\n",
              "      <td>1</td>\n",
              "    </tr>\n",
              "    <tr>\n",
              "      <th>81</th>\n",
              "      <td>1</td>\n",
              "    </tr>\n",
              "  </tbody>\n",
              "</table>\n",
              "<p>82 rows × 1 columns</p>\n",
              "</div>"
            ],
            "text/plain": [
              "   labels\n",
              "0       0\n",
              "1       0\n",
              "2       0\n",
              "3       0\n",
              "4       0\n",
              "..    ...\n",
              "77      1\n",
              "78      2\n",
              "79      2\n",
              "80      1\n",
              "81      1\n",
              "\n",
              "[82 rows x 1 columns]"
            ]
          },
          "metadata": {},
          "execution_count": 31
        }
      ]
    },
    {
      "cell_type": "code",
      "metadata": {
        "colab": {
          "base_uri": "https://localhost:8080/"
        },
        "id": "zA9FPNvM9rYn",
        "outputId": "ad4179bd-413a-494f-b32f-3eee95974ac0"
      },
      "source": [
        "df_labels.shape"
      ],
      "execution_count": 32,
      "outputs": [
        {
          "output_type": "execute_result",
          "data": {
            "text/plain": [
              "(82, 1)"
            ]
          },
          "metadata": {},
          "execution_count": 32
        }
      ]
    },
    {
      "cell_type": "code",
      "metadata": {
        "id": "t-tnzsDL-57q"
      },
      "source": [
        "df_labeled=df.join(df_labels)"
      ],
      "execution_count": 33,
      "outputs": []
    },
    {
      "cell_type": "code",
      "metadata": {
        "colab": {
          "base_uri": "https://localhost:8080/",
          "height": 202
        },
        "id": "4CmU0Vdc_g3g",
        "outputId": "4c080de3-a34c-47d1-d4a6-5c1a415bed76"
      },
      "source": [
        "df_labeled\n",
        "df_labeled.head()"
      ],
      "execution_count": 36,
      "outputs": [
        {
          "output_type": "execute_result",
          "data": {
            "text/html": [
              "<div>\n",
              "<style scoped>\n",
              "    .dataframe tbody tr th:only-of-type {\n",
              "        vertical-align: middle;\n",
              "    }\n",
              "\n",
              "    .dataframe tbody tr th {\n",
              "        vertical-align: top;\n",
              "    }\n",
              "\n",
              "    .dataframe thead th {\n",
              "        text-align: right;\n",
              "    }\n",
              "</style>\n",
              "<table border=\"1\" class=\"dataframe\">\n",
              "  <thead>\n",
              "    <tr style=\"text-align: right;\">\n",
              "      <th></th>\n",
              "      <th>simplicity</th>\n",
              "      <th>fatalism</th>\n",
              "      <th>depression</th>\n",
              "      <th>adjsimp</th>\n",
              "      <th>adjfatal</th>\n",
              "      <th>adjdep</th>\n",
              "      <th>labels</th>\n",
              "    </tr>\n",
              "  </thead>\n",
              "  <tbody>\n",
              "    <tr>\n",
              "      <th>0</th>\n",
              "      <td>0.92983</td>\n",
              "      <td>0.35589</td>\n",
              "      <td>0.59870</td>\n",
              "      <td>0.75934</td>\n",
              "      <td>0.10673</td>\n",
              "      <td>0.41865</td>\n",
              "      <td>0</td>\n",
              "    </tr>\n",
              "    <tr>\n",
              "      <th>1</th>\n",
              "      <td>0.91097</td>\n",
              "      <td>1.18439</td>\n",
              "      <td>0.72787</td>\n",
              "      <td>0.72717</td>\n",
              "      <td>0.99915</td>\n",
              "      <td>0.51688</td>\n",
              "      <td>0</td>\n",
              "    </tr>\n",
              "    <tr>\n",
              "      <th>2</th>\n",
              "      <td>0.53366</td>\n",
              "      <td>-0.05837</td>\n",
              "      <td>0.53411</td>\n",
              "      <td>0.62176</td>\n",
              "      <td>0.03811</td>\n",
              "      <td>0.70699</td>\n",
              "      <td>0</td>\n",
              "    </tr>\n",
              "    <tr>\n",
              "      <th>3</th>\n",
              "      <td>0.74118</td>\n",
              "      <td>0.35589</td>\n",
              "      <td>0.56641</td>\n",
              "      <td>0.83522</td>\n",
              "      <td>0.42218</td>\n",
              "      <td>0.65639</td>\n",
              "      <td>0</td>\n",
              "    </tr>\n",
              "    <tr>\n",
              "      <th>4</th>\n",
              "      <td>0.53366</td>\n",
              "      <td>0.77014</td>\n",
              "      <td>0.50182</td>\n",
              "      <td>0.47697</td>\n",
              "      <td>0.81423</td>\n",
              "      <td>0.53518</td>\n",
              "      <td>0</td>\n",
              "    </tr>\n",
              "  </tbody>\n",
              "</table>\n",
              "</div>"
            ],
            "text/plain": [
              "   simplicity  fatalism  depression  adjsimp  adjfatal   adjdep labels\n",
              "0     0.92983   0.35589     0.59870  0.75934   0.10673  0.41865      0\n",
              "1     0.91097   1.18439     0.72787  0.72717   0.99915  0.51688      0\n",
              "2     0.53366  -0.05837     0.53411  0.62176   0.03811  0.70699      0\n",
              "3     0.74118   0.35589     0.56641  0.83522   0.42218  0.65639      0\n",
              "4     0.53366   0.77014     0.50182  0.47697   0.81423  0.53518      0"
            ]
          },
          "metadata": {},
          "execution_count": 36
        }
      ]
    },
    {
      "cell_type": "code",
      "metadata": {
        "colab": {
          "base_uri": "https://localhost:8080/",
          "height": 414
        },
        "id": "Myzby9Nf_j8s",
        "outputId": "a22f5f03-6f3e-4f6e-bc2b-a1b34e5faa49"
      },
      "source": [
        "\n",
        "df_analaysis=(df_labeled.groupby(['labels'],axis=0)).head(4177)\n",
        "df_analaysis"
      ],
      "execution_count": 35,
      "outputs": [
        {
          "output_type": "execute_result",
          "data": {
            "text/html": [
              "<div>\n",
              "<style scoped>\n",
              "    .dataframe tbody tr th:only-of-type {\n",
              "        vertical-align: middle;\n",
              "    }\n",
              "\n",
              "    .dataframe tbody tr th {\n",
              "        vertical-align: top;\n",
              "    }\n",
              "\n",
              "    .dataframe thead th {\n",
              "        text-align: right;\n",
              "    }\n",
              "</style>\n",
              "<table border=\"1\" class=\"dataframe\">\n",
              "  <thead>\n",
              "    <tr style=\"text-align: right;\">\n",
              "      <th></th>\n",
              "      <th>simplicity</th>\n",
              "      <th>fatalism</th>\n",
              "      <th>depression</th>\n",
              "      <th>adjsimp</th>\n",
              "      <th>adjfatal</th>\n",
              "      <th>adjdep</th>\n",
              "      <th>labels</th>\n",
              "    </tr>\n",
              "  </thead>\n",
              "  <tbody>\n",
              "    <tr>\n",
              "      <th>0</th>\n",
              "      <td>0.92983</td>\n",
              "      <td>0.35589</td>\n",
              "      <td>0.59870</td>\n",
              "      <td>0.75934</td>\n",
              "      <td>0.10673</td>\n",
              "      <td>0.41865</td>\n",
              "      <td>0</td>\n",
              "    </tr>\n",
              "    <tr>\n",
              "      <th>1</th>\n",
              "      <td>0.91097</td>\n",
              "      <td>1.18439</td>\n",
              "      <td>0.72787</td>\n",
              "      <td>0.72717</td>\n",
              "      <td>0.99915</td>\n",
              "      <td>0.51688</td>\n",
              "      <td>0</td>\n",
              "    </tr>\n",
              "    <tr>\n",
              "      <th>2</th>\n",
              "      <td>0.53366</td>\n",
              "      <td>-0.05837</td>\n",
              "      <td>0.53411</td>\n",
              "      <td>0.62176</td>\n",
              "      <td>0.03811</td>\n",
              "      <td>0.70699</td>\n",
              "      <td>0</td>\n",
              "    </tr>\n",
              "    <tr>\n",
              "      <th>3</th>\n",
              "      <td>0.74118</td>\n",
              "      <td>0.35589</td>\n",
              "      <td>0.56641</td>\n",
              "      <td>0.83522</td>\n",
              "      <td>0.42218</td>\n",
              "      <td>0.65639</td>\n",
              "      <td>0</td>\n",
              "    </tr>\n",
              "    <tr>\n",
              "      <th>4</th>\n",
              "      <td>0.53366</td>\n",
              "      <td>0.77014</td>\n",
              "      <td>0.50182</td>\n",
              "      <td>0.47697</td>\n",
              "      <td>0.81423</td>\n",
              "      <td>0.53518</td>\n",
              "      <td>0</td>\n",
              "    </tr>\n",
              "    <tr>\n",
              "      <th>...</th>\n",
              "      <td>...</td>\n",
              "      <td>...</td>\n",
              "      <td>...</td>\n",
              "      <td>...</td>\n",
              "      <td>...</td>\n",
              "      <td>...</td>\n",
              "      <td>...</td>\n",
              "    </tr>\n",
              "    <tr>\n",
              "      <th>77</th>\n",
              "      <td>1.04302</td>\n",
              "      <td>1.80577</td>\n",
              "      <td>1.47061</td>\n",
              "      <td>0.72117</td>\n",
              "      <td>1.50039</td>\n",
              "      <td>1.14913</td>\n",
              "      <td>1</td>\n",
              "    </tr>\n",
              "    <tr>\n",
              "      <th>78</th>\n",
              "      <td>1.79763</td>\n",
              "      <td>2.22003</td>\n",
              "      <td>1.40603</td>\n",
              "      <td>1.59752</td>\n",
              "      <td>2.05016</td>\n",
              "      <td>1.16443</td>\n",
              "      <td>2</td>\n",
              "    </tr>\n",
              "    <tr>\n",
              "      <th>79</th>\n",
              "      <td>2.11834</td>\n",
              "      <td>0.77014</td>\n",
              "      <td>2.01960</td>\n",
              "      <td>2.39515</td>\n",
              "      <td>0.88910</td>\n",
              "      <td>2.24452</td>\n",
              "      <td>2</td>\n",
              "    </tr>\n",
              "    <tr>\n",
              "      <th>80</th>\n",
              "      <td>1.42033</td>\n",
              "      <td>1.18439</td>\n",
              "      <td>1.47061</td>\n",
              "      <td>1.31493</td>\n",
              "      <td>1.04058</td>\n",
              "      <td>1.37153</td>\n",
              "      <td>1</td>\n",
              "    </tr>\n",
              "    <tr>\n",
              "      <th>81</th>\n",
              "      <td>0.98643</td>\n",
              "      <td>1.18439</td>\n",
              "      <td>1.56749</td>\n",
              "      <td>0.97903</td>\n",
              "      <td>1.23973</td>\n",
              "      <td>1.65687</td>\n",
              "      <td>1</td>\n",
              "    </tr>\n",
              "  </tbody>\n",
              "</table>\n",
              "<p>82 rows × 7 columns</p>\n",
              "</div>"
            ],
            "text/plain": [
              "    simplicity  fatalism  depression  adjsimp  adjfatal   adjdep labels\n",
              "0      0.92983   0.35589     0.59870  0.75934   0.10673  0.41865      0\n",
              "1      0.91097   1.18439     0.72787  0.72717   0.99915  0.51688      0\n",
              "2      0.53366  -0.05837     0.53411  0.62176   0.03811  0.70699      0\n",
              "3      0.74118   0.35589     0.56641  0.83522   0.42218  0.65639      0\n",
              "4      0.53366   0.77014     0.50182  0.47697   0.81423  0.53518      0\n",
              "..         ...       ...         ...      ...       ...      ...    ...\n",
              "77     1.04302   1.80577     1.47061  0.72117   1.50039  1.14913      1\n",
              "78     1.79763   2.22003     1.40603  1.59752   2.05016  1.16443      2\n",
              "79     2.11834   0.77014     2.01960  2.39515   0.88910  2.24452      2\n",
              "80     1.42033   1.18439     1.47061  1.31493   1.04058  1.37153      1\n",
              "81     0.98643   1.18439     1.56749  0.97903   1.23973  1.65687      1\n",
              "\n",
              "[82 rows x 7 columns]"
            ]
          },
          "metadata": {},
          "execution_count": 35
        }
      ]
    },
    {
      "cell_type": "code",
      "metadata": {
        "colab": {
          "base_uri": "https://localhost:8080/"
        },
        "id": "iNjm2MzAANWB",
        "outputId": "976a7b29-4fb8-41d3-d411-40447900346b"
      },
      "source": [
        "df_labeled['labels'].value_counts()"
      ],
      "execution_count": 38,
      "outputs": [
        {
          "output_type": "execute_result",
          "data": {
            "text/plain": [
              "0    37\n",
              "1    32\n",
              "2    13\n",
              "Name: labels, dtype: int64"
            ]
          },
          "metadata": {},
          "execution_count": 38
        }
      ]
    },
    {
      "cell_type": "code",
      "metadata": {
        "id": "_XCbg7XHC47K"
      },
      "source": [
        "from mpl_toolkits.mplot3d import Axes3D\n"
      ],
      "execution_count": 40,
      "outputs": []
    },
    {
      "cell_type": "code",
      "metadata": {
        "colab": {
          "base_uri": "https://localhost:8080/",
          "height": 552
        },
        "id": "uq7JHxmtRp58",
        "outputId": "107d785d-3bf5-47cb-a26a-a657adf12a70"
      },
      "source": [
        "fig=plt.figure(figsize=(10,7))\n",
        "ax=Axes3D(fig,rect=[0,0,.95,1],elev=20,azim=85)\n",
        "kmeans.fit(df_z)\n",
        "labels=kmeans.labels_\n",
        "ax.scatter(df_z.iloc[:,0],df_z.iloc[:,1],df_z.iloc[:,3],c=labels.astype(np.float),edgecolor='k')\n",
        "ax.w_xaxis.set_ticklabels([])\n",
        "ax.w_yaxis.set_ticklabels([])\n",
        "ax.w_zaxis.set_ticklabels([])\n",
        "ax.set_xlabel('Length')\n",
        "ax.set_ylabel('Height')\n",
        "ax.set_zlabel('Weight')\n",
        "ax.set_title('3D plot of Kmeans Clustering')\n"
      ],
      "execution_count": 44,
      "outputs": [
        {
          "output_type": "execute_result",
          "data": {
            "text/plain": [
              "Text(0.5, 0.92, '3D plot of Kmeans Clustering')"
            ]
          },
          "metadata": {},
          "execution_count": 44
        },
        {
          "output_type": "display_data",
          "data": {
            "image/png": "[encoded data removed]",
            "text/plain": [
              "<Figure size 720x504 with 1 Axes>"
            ]
          },
          "metadata": {
            "needs_background": "light"
          }
        }
      ]
    },
    {
      "cell_type": "code",
      "metadata": {
        "id": "Q751E2d8UL6O"
      },
      "source": [
        ""
      ],
      "execution_count": null,
      "outputs": []
    }
  ]
}
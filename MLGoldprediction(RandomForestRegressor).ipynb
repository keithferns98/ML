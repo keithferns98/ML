{
  "nbformat": 4,
  "nbformat_minor": 0,
  "metadata": {
    "colab": {
      "name": "MLGoldprediction(RandomForestRegressor).ipynb",
      "provenance": [],
      "authorship_tag": "ABX9TyNc+7VmWZIu3wAkdL18mwds",
      "include_colab_link": true
    },
    "kernelspec": {
      "name": "python3",
      "display_name": "Python 3"
    },
    "language_info": {
      "name": "python"
    }
  },
  "cells": [
    {
      "cell_type": "markdown",
      "metadata": {
        "id": "view-in-github",
        "colab_type": "text"
      },
      "source": [
        "<a href=\"https://colab.research.google.com/github/keithferns98/ML/blob/main/MLGoldprediction(RandomForestRegressor).ipynb\" target=\"_parent\"><img src=\"https://colab.research.google.com/assets/colab-badge.svg\" alt=\"Open In Colab\"/></a>"
      ]
    },
    {
      "cell_type": "code",
      "metadata": {
        "id": "llXvnSkzkZ3w"
      },
      "source": [
        "import numpy as np\n",
        "import pandas as pd\n",
        "import matplotlib.pyplot as plt\n",
        "import seaborn as sns\n",
        "from sklearn.model_selection import train_test_split\n",
        "from sklearn.ensemble import RandomForestRegressor\n",
        "from sklearn import metrics"
      ],
      "execution_count": 1,
      "outputs": []
    },
    {
      "cell_type": "code",
      "metadata": {
        "id": "D1uM4lXnkqWK"
      },
      "source": [
        "df=pd.read_csv(\"gld_price_data.csv\")"
      ],
      "execution_count": 2,
      "outputs": []
    },
    {
      "cell_type": "code",
      "metadata": {
        "colab": {
          "base_uri": "https://localhost:8080/",
          "height": 202
        },
        "id": "rqz7VsHmlJCX",
        "outputId": "c8940d74-b890-440e-8217-d684953ddb63"
      },
      "source": [
        "df.head()"
      ],
      "execution_count": 3,
      "outputs": [
        {
          "output_type": "execute_result",
          "data": {
            "text/html": [
              "<div>\n",
              "<style scoped>\n",
              "    .dataframe tbody tr th:only-of-type {\n",
              "        vertical-align: middle;\n",
              "    }\n",
              "\n",
              "    .dataframe tbody tr th {\n",
              "        vertical-align: top;\n",
              "    }\n",
              "\n",
              "    .dataframe thead th {\n",
              "        text-align: right;\n",
              "    }\n",
              "</style>\n",
              "<table border=\"1\" class=\"dataframe\">\n",
              "  <thead>\n",
              "    <tr style=\"text-align: right;\">\n",
              "      <th></th>\n",
              "      <th>Date</th>\n",
              "      <th>SPX</th>\n",
              "      <th>GLD</th>\n",
              "      <th>USO</th>\n",
              "      <th>SLV</th>\n",
              "      <th>EUR/USD</th>\n",
              "    </tr>\n",
              "  </thead>\n",
              "  <tbody>\n",
              "    <tr>\n",
              "      <th>0</th>\n",
              "      <td>1/2/2008</td>\n",
              "      <td>1447.160034</td>\n",
              "      <td>84.860001</td>\n",
              "      <td>78.470001</td>\n",
              "      <td>15.180</td>\n",
              "      <td>1.471692</td>\n",
              "    </tr>\n",
              "    <tr>\n",
              "      <th>1</th>\n",
              "      <td>1/3/2008</td>\n",
              "      <td>1447.160034</td>\n",
              "      <td>85.570000</td>\n",
              "      <td>78.370003</td>\n",
              "      <td>15.285</td>\n",
              "      <td>1.474491</td>\n",
              "    </tr>\n",
              "    <tr>\n",
              "      <th>2</th>\n",
              "      <td>1/4/2008</td>\n",
              "      <td>1411.630005</td>\n",
              "      <td>85.129997</td>\n",
              "      <td>77.309998</td>\n",
              "      <td>15.167</td>\n",
              "      <td>1.475492</td>\n",
              "    </tr>\n",
              "    <tr>\n",
              "      <th>3</th>\n",
              "      <td>1/7/2008</td>\n",
              "      <td>1416.180054</td>\n",
              "      <td>84.769997</td>\n",
              "      <td>75.500000</td>\n",
              "      <td>15.053</td>\n",
              "      <td>1.468299</td>\n",
              "    </tr>\n",
              "    <tr>\n",
              "      <th>4</th>\n",
              "      <td>1/8/2008</td>\n",
              "      <td>1390.189941</td>\n",
              "      <td>86.779999</td>\n",
              "      <td>76.059998</td>\n",
              "      <td>15.590</td>\n",
              "      <td>1.557099</td>\n",
              "    </tr>\n",
              "  </tbody>\n",
              "</table>\n",
              "</div>"
            ],
            "text/plain": [
              "       Date          SPX        GLD        USO     SLV   EUR/USD\n",
              "0  1/2/2008  1447.160034  84.860001  78.470001  15.180  1.471692\n",
              "1  1/3/2008  1447.160034  85.570000  78.370003  15.285  1.474491\n",
              "2  1/4/2008  1411.630005  85.129997  77.309998  15.167  1.475492\n",
              "3  1/7/2008  1416.180054  84.769997  75.500000  15.053  1.468299\n",
              "4  1/8/2008  1390.189941  86.779999  76.059998  15.590  1.557099"
            ]
          },
          "metadata": {
            "tags": []
          },
          "execution_count": 3
        }
      ]
    },
    {
      "cell_type": "code",
      "metadata": {
        "colab": {
          "base_uri": "https://localhost:8080/"
        },
        "id": "jGVWtUh-lOfw",
        "outputId": "dbd29c9b-fa9e-4910-d281-abf30e09541f"
      },
      "source": [
        "df.shape"
      ],
      "execution_count": 4,
      "outputs": [
        {
          "output_type": "execute_result",
          "data": {
            "text/plain": [
              "(2290, 6)"
            ]
          },
          "metadata": {
            "tags": []
          },
          "execution_count": 4
        }
      ]
    },
    {
      "cell_type": "code",
      "metadata": {
        "colab": {
          "base_uri": "https://localhost:8080/"
        },
        "id": "Rq7VvbsZlRv4",
        "outputId": "4dac67d6-9dc8-4bb7-8a0f-f9f201ef34d8"
      },
      "source": [
        "df.info()"
      ],
      "execution_count": 5,
      "outputs": [
        {
          "output_type": "stream",
          "text": [
            "<class 'pandas.core.frame.DataFrame'>\n",
            "RangeIndex: 2290 entries, 0 to 2289\n",
            "Data columns (total 6 columns):\n",
            " #   Column   Non-Null Count  Dtype  \n",
            "---  ------   --------------  -----  \n",
            " 0   Date     2290 non-null   object \n",
            " 1   SPX      2290 non-null   float64\n",
            " 2   GLD      2290 non-null   float64\n",
            " 3   USO      2290 non-null   float64\n",
            " 4   SLV      2290 non-null   float64\n",
            " 5   EUR/USD  2290 non-null   float64\n",
            "dtypes: float64(5), object(1)\n",
            "memory usage: 107.5+ KB\n"
          ],
          "name": "stdout"
        }
      ]
    },
    {
      "cell_type": "code",
      "metadata": {
        "colab": {
          "base_uri": "https://localhost:8080/",
          "height": 294
        },
        "id": "Ua4VibEklcMd",
        "outputId": "f293d61c-6114-4a62-b1f9-0e80234ad231"
      },
      "source": [
        "df.describe()"
      ],
      "execution_count": 6,
      "outputs": [
        {
          "output_type": "execute_result",
          "data": {
            "text/html": [
              "<div>\n",
              "<style scoped>\n",
              "    .dataframe tbody tr th:only-of-type {\n",
              "        vertical-align: middle;\n",
              "    }\n",
              "\n",
              "    .dataframe tbody tr th {\n",
              "        vertical-align: top;\n",
              "    }\n",
              "\n",
              "    .dataframe thead th {\n",
              "        text-align: right;\n",
              "    }\n",
              "</style>\n",
              "<table border=\"1\" class=\"dataframe\">\n",
              "  <thead>\n",
              "    <tr style=\"text-align: right;\">\n",
              "      <th></th>\n",
              "      <th>SPX</th>\n",
              "      <th>GLD</th>\n",
              "      <th>USO</th>\n",
              "      <th>SLV</th>\n",
              "      <th>EUR/USD</th>\n",
              "    </tr>\n",
              "  </thead>\n",
              "  <tbody>\n",
              "    <tr>\n",
              "      <th>count</th>\n",
              "      <td>2290.000000</td>\n",
              "      <td>2290.000000</td>\n",
              "      <td>2290.000000</td>\n",
              "      <td>2290.000000</td>\n",
              "      <td>2290.000000</td>\n",
              "    </tr>\n",
              "    <tr>\n",
              "      <th>mean</th>\n",
              "      <td>1654.315776</td>\n",
              "      <td>122.732875</td>\n",
              "      <td>31.842221</td>\n",
              "      <td>20.084997</td>\n",
              "      <td>1.283653</td>\n",
              "    </tr>\n",
              "    <tr>\n",
              "      <th>std</th>\n",
              "      <td>519.111540</td>\n",
              "      <td>23.283346</td>\n",
              "      <td>19.523517</td>\n",
              "      <td>7.092566</td>\n",
              "      <td>0.131547</td>\n",
              "    </tr>\n",
              "    <tr>\n",
              "      <th>min</th>\n",
              "      <td>676.530029</td>\n",
              "      <td>70.000000</td>\n",
              "      <td>7.960000</td>\n",
              "      <td>8.850000</td>\n",
              "      <td>1.039047</td>\n",
              "    </tr>\n",
              "    <tr>\n",
              "      <th>25%</th>\n",
              "      <td>1239.874969</td>\n",
              "      <td>109.725000</td>\n",
              "      <td>14.380000</td>\n",
              "      <td>15.570000</td>\n",
              "      <td>1.171313</td>\n",
              "    </tr>\n",
              "    <tr>\n",
              "      <th>50%</th>\n",
              "      <td>1551.434998</td>\n",
              "      <td>120.580002</td>\n",
              "      <td>33.869999</td>\n",
              "      <td>17.268500</td>\n",
              "      <td>1.303296</td>\n",
              "    </tr>\n",
              "    <tr>\n",
              "      <th>75%</th>\n",
              "      <td>2073.010070</td>\n",
              "      <td>132.840004</td>\n",
              "      <td>37.827501</td>\n",
              "      <td>22.882499</td>\n",
              "      <td>1.369971</td>\n",
              "    </tr>\n",
              "    <tr>\n",
              "      <th>max</th>\n",
              "      <td>2872.870117</td>\n",
              "      <td>184.589996</td>\n",
              "      <td>117.480003</td>\n",
              "      <td>47.259998</td>\n",
              "      <td>1.598798</td>\n",
              "    </tr>\n",
              "  </tbody>\n",
              "</table>\n",
              "</div>"
            ],
            "text/plain": [
              "               SPX          GLD          USO          SLV      EUR/USD\n",
              "count  2290.000000  2290.000000  2290.000000  2290.000000  2290.000000\n",
              "mean   1654.315776   122.732875    31.842221    20.084997     1.283653\n",
              "std     519.111540    23.283346    19.523517     7.092566     0.131547\n",
              "min     676.530029    70.000000     7.960000     8.850000     1.039047\n",
              "25%    1239.874969   109.725000    14.380000    15.570000     1.171313\n",
              "50%    1551.434998   120.580002    33.869999    17.268500     1.303296\n",
              "75%    2073.010070   132.840004    37.827501    22.882499     1.369971\n",
              "max    2872.870117   184.589996   117.480003    47.259998     1.598798"
            ]
          },
          "metadata": {
            "tags": []
          },
          "execution_count": 6
        }
      ]
    },
    {
      "cell_type": "code",
      "metadata": {
        "colab": {
          "base_uri": "https://localhost:8080/"
        },
        "id": "uNFS6JSNlePK",
        "outputId": "86d656b9-228a-4ac5-fa88-313a24bf9e76"
      },
      "source": [
        "df.isnull().sum()"
      ],
      "execution_count": 7,
      "outputs": [
        {
          "output_type": "execute_result",
          "data": {
            "text/plain": [
              "Date       0\n",
              "SPX        0\n",
              "GLD        0\n",
              "USO        0\n",
              "SLV        0\n",
              "EUR/USD    0\n",
              "dtype: int64"
            ]
          },
          "metadata": {
            "tags": []
          },
          "execution_count": 7
        }
      ]
    },
    {
      "cell_type": "code",
      "metadata": {
        "colab": {
          "base_uri": "https://localhost:8080/",
          "height": 450
        },
        "id": "-t3BRBKMl4Ua",
        "outputId": "2b3f6333-ff99-4290-9b39-7ac7acb86a98"
      },
      "source": [
        "correlation=df.corr()\n",
        "plt.figure(figsize=(10,7))\n",
        "sns.heatmap(correlation,cbar=True,square=True,fmt=\".1f\",annot=True,annot_kws={'size':8},cmap=\"Blues\")"
      ],
      "execution_count": 8,
      "outputs": [
        {
          "output_type": "execute_result",
          "data": {
            "text/plain": [
              "<matplotlib.axes._subplots.AxesSubplot at 0x7f4c4c8924d0>"
            ]
          },
          "metadata": {
            "tags": []
          },
          "execution_count": 8
        },
        {
          "output_type": "display_data",
          "data": {
            "image/png": "[encoded data removed]",
            "text/plain": [
              "<Figure size 720x504 with 2 Axes>"
            ]
          },
          "metadata": {
            "tags": [],
            "needs_background": "light"
          }
        }
      ]
    },
    {
      "cell_type": "code",
      "metadata": {
        "colab": {
          "base_uri": "https://localhost:8080/"
        },
        "id": "bLYBvNRinDdQ",
        "outputId": "a16458cc-479e-4fad-f16e-7f7ec6e71582"
      },
      "source": [
        "print(correlation['GLD'])"
      ],
      "execution_count": 9,
      "outputs": [
        {
          "output_type": "stream",
          "text": [
            "SPX        0.049345\n",
            "GLD        1.000000\n",
            "USO       -0.186360\n",
            "SLV        0.866632\n",
            "EUR/USD   -0.024375\n",
            "Name: GLD, dtype: float64\n"
          ],
          "name": "stdout"
        }
      ]
    },
    {
      "cell_type": "code",
      "metadata": {
        "colab": {
          "base_uri": "https://localhost:8080/",
          "height": 356
        },
        "id": "TcgxJd68n4Ed",
        "outputId": "bb8263a3-cf4f-4af3-c006-3ee23171a546"
      },
      "source": [
        "sns.distplot(df['GLD'],color=\"green\")"
      ],
      "execution_count": 10,
      "outputs": [
        {
          "output_type": "stream",
          "text": [
            "/usr/local/lib/python3.7/dist-packages/seaborn/distributions.py:2557: FutureWarning: `distplot` is a deprecated function and will be removed in a future version. Please adapt your code to use either `displot` (a figure-level function with similar flexibility) or `histplot` (an axes-level function for histograms).\n",
            "  warnings.warn(msg, FutureWarning)\n"
          ],
          "name": "stderr"
        },
        {
          "output_type": "execute_result",
          "data": {
            "text/plain": [
              "<matplotlib.axes._subplots.AxesSubplot at 0x7f4c441f4110>"
            ]
          },
          "metadata": {
            "tags": []
          },
          "execution_count": 10
        },
        {
          "output_type": "display_data",
          "data": {
            "image/png": "[encoded data removed]",
            "text/plain": [
              "<Figure size 432x288 with 1 Axes>"
            ]
          },
          "metadata": {
            "tags": [],
            "needs_background": "light"
          }
        }
      ]
    },
    {
      "cell_type": "code",
      "metadata": {
        "id": "h3qIZZjLoHe-"
      },
      "source": [
        " X=df.drop(['Date','GLD'],axis=1)\n",
        " y=df[\"GLD\"]"
      ],
      "execution_count": 11,
      "outputs": []
    },
    {
      "cell_type": "code",
      "metadata": {
        "id": "aQFcCpNhoxCK"
      },
      "source": [
        "X_train,X_test,y_train,y_test=train_test_split(X,y,test_size=0.2,random_state=2)"
      ],
      "execution_count": 12,
      "outputs": []
    },
    {
      "cell_type": "code",
      "metadata": {
        "id": "fadNxds_pU6u"
      },
      "source": [
        "regressor=RandomForestRegressor(n_estimators=100)"
      ],
      "execution_count": 13,
      "outputs": []
    },
    {
      "cell_type": "code",
      "metadata": {
        "colab": {
          "base_uri": "https://localhost:8080/"
        },
        "id": "6859nejap90L",
        "outputId": "6e6606e8-0c32-4c4f-c9f7-d660f65a9894"
      },
      "source": [
        "regressor.fit(X_train,y_train)"
      ],
      "execution_count": 14,
      "outputs": [
        {
          "output_type": "execute_result",
          "data": {
            "text/plain": [
              "RandomForestRegressor(bootstrap=True, ccp_alpha=0.0, criterion='mse',\n",
              "                      max_depth=None, max_features='auto', max_leaf_nodes=None,\n",
              "                      max_samples=None, min_impurity_decrease=0.0,\n",
              "                      min_impurity_split=None, min_samples_leaf=1,\n",
              "                      min_samples_split=2, min_weight_fraction_leaf=0.0,\n",
              "                      n_estimators=100, n_jobs=None, oob_score=False,\n",
              "                      random_state=None, verbose=0, warm_start=False)"
            ]
          },
          "metadata": {
            "tags": []
          },
          "execution_count": 14
        }
      ]
    },
    {
      "cell_type": "code",
      "metadata": {
        "id": "jJcZlOPJqJW4"
      },
      "source": [
        "test_data_preds=regressor.predict(X_test)"
      ],
      "execution_count": 15,
      "outputs": []
    },
    {
      "cell_type": "code",
      "metadata": {
        "id": "xHTILEhdqPe_"
      },
      "source": [
        "error_score=metrics.r2_score(y_test,test_data_preds)"
      ],
      "execution_count": 16,
      "outputs": []
    },
    {
      "cell_type": "code",
      "metadata": {
        "colab": {
          "base_uri": "https://localhost:8080/"
        },
        "id": "U4ta5m89qkiq",
        "outputId": "1dde1652-a875-487d-bfdf-fb12bb2e7919"
      },
      "source": [
        "error_score"
      ],
      "execution_count": 17,
      "outputs": [
        {
          "output_type": "execute_result",
          "data": {
            "text/plain": [
              "0.9886411935068853"
            ]
          },
          "metadata": {
            "tags": []
          },
          "execution_count": 17
        }
      ]
    },
    {
      "cell_type": "code",
      "metadata": {
        "id": "PKKvUFKFs1TP"
      },
      "source": [
        "y_test=list(y_test)"
      ],
      "execution_count": 18,
      "outputs": []
    },
    {
      "cell_type": "code",
      "metadata": {
        "colab": {
          "base_uri": "https://localhost:8080/"
        },
        "id": "kLl4lWeotEvQ",
        "outputId": "abbf4cf9-b620-450d-c52b-68a0a83473b2"
      },
      "source": [
        "y_test"
      ],
      "execution_count": 19,
      "outputs": [
        {
          "output_type": "execute_result",
          "data": {
            "text/plain": [
              "[168.020004,\n",
              " 81.230003,\n",
              " 112.32,\n",
              " 127.589996,\n",
              " 119.620003,\n",
              " 154.21000700000002,\n",
              " 148.91000400000001,\n",
              " 126.190002,\n",
              " 117.470001,\n",
              " 125.739998,\n",
              " 115.379997,\n",
              " 167.119995,\n",
              " 141.630005,\n",
              " 169.559998,\n",
              " 115.599998,\n",
              " 119.66999799999999,\n",
              " 132.949997,\n",
              " 170.399994,\n",
              " 159.369995,\n",
              " 173.529999,\n",
              " 154.720001,\n",
              " 128.119995,\n",
              " 177.720001,\n",
              " 157.190002,\n",
              " 125.309998,\n",
              " 93.400002,\n",
              " 76.790001,\n",
              " 119.690002,\n",
              " 118.989998,\n",
              " 167.389999,\n",
              " 87.5,\n",
              " 124.980003,\n",
              " 91.230003,\n",
              " 115.489998,\n",
              " 120.949997,\n",
              " 133.809998,\n",
              " 116.690002,\n",
              " 113.809998,\n",
              " 133.580002,\n",
              " 105.970001,\n",
              " 105.120003,\n",
              " 87.959999,\n",
              " 126.82,\n",
              " 116.860001,\n",
              " 159.259995,\n",
              " 119.459999,\n",
              " 109.160004,\n",
              " 108.620003,\n",
              " 93.269997,\n",
              " 127.160004,\n",
              " 72.260002,\n",
              " 113.470001,\n",
              " 119.68,\n",
              " 109.139999,\n",
              " 119.309998,\n",
              " 120.050003,\n",
              " 159.889999,\n",
              " 161.490005,\n",
              " 146.740005,\n",
              " 85.809998,\n",
              " 93.709999,\n",
              " 85.550003,\n",
              " 91.029999,\n",
              " 118.489998,\n",
              " 126.449997,\n",
              " 126.980003,\n",
              " 171.699997,\n",
              " 122.400002,\n",
              " 116.410004,\n",
              " 97.959999,\n",
              " 169.630005,\n",
              " 142.639999,\n",
              " 131.809998,\n",
              " 121.360001,\n",
              " 124.0,\n",
              " 119.699997,\n",
              " 113.889999,\n",
              " 118.91999799999999,\n",
              " 105.639999,\n",
              " 127.66999799999999,\n",
              " 114.32,\n",
              " 107.309998,\n",
              " 114.82,\n",
              " 119.230003,\n",
              " 86.860001,\n",
              " 87.010002,\n",
              " 147.729996,\n",
              " 128.199997,\n",
              " 113.260002,\n",
              " 110.82,\n",
              " 107.360001,\n",
              " 74.220001,\n",
              " 172.940002,\n",
              " 114.099998,\n",
              " 121.650002,\n",
              " 129.110001,\n",
              " 156.770004,\n",
              " 91.660004,\n",
              " 133.479996,\n",
              " 161.029999,\n",
              " 128.470001,\n",
              " 125.75,\n",
              " 132.28999299999998,\n",
              " 114.019997,\n",
              " 118.230003,\n",
              " 93.709999,\n",
              " 111.150002,\n",
              " 164.28999299999998,\n",
              " 157.770004,\n",
              " 115.510002,\n",
              " 107.129997,\n",
              " 83.309998,\n",
              " 115.150002,\n",
              " 125.540001,\n",
              " 106.08000200000001,\n",
              " 120.58000200000001,\n",
              " 157.139999,\n",
              " 161.059998,\n",
              " 120.309998,\n",
              " 133.070007,\n",
              " 103.949997,\n",
              " 116.360001,\n",
              " 119.309998,\n",
              " 112.370003,\n",
              " 102.839996,\n",
              " 161.199997,\n",
              " 97.050003,\n",
              " 147.830002,\n",
              " 125.32,\n",
              " 171.139999,\n",
              " 123.540001,\n",
              " 127.07,\n",
              " 127.959999,\n",
              " 114.83000200000001,\n",
              " 111.540001,\n",
              " 122.849998,\n",
              " 100.5,\n",
              " 90.040001,\n",
              " 123.989998,\n",
              " 98.900002,\n",
              " 106.16999799999999,\n",
              " 110.82,\n",
              " 120.389999,\n",
              " 98.849998,\n",
              " 122.449997,\n",
              " 162.300003,\n",
              " 86.650002,\n",
              " 106.150002,\n",
              " 116.43,\n",
              " 127.959999,\n",
              " 122.83000200000001,\n",
              " 80.760002,\n",
              " 119.529999,\n",
              " 159.729996,\n",
              " 88.470001,\n",
              " 110.160004,\n",
              " 115.940002,\n",
              " 170.75,\n",
              " 102.339996,\n",
              " 105.019997,\n",
              " 122.730003,\n",
              " 160.330002,\n",
              " 86.949997,\n",
              " 93.190002,\n",
              " 111.43,\n",
              " 172.360001,\n",
              " 114.120003,\n",
              " 120.129997,\n",
              " 93.699997,\n",
              " 126.089996,\n",
              " 167.619995,\n",
              " 116.33000200000001,\n",
              " 117.120003,\n",
              " 87.25,\n",
              " 149.199997,\n",
              " 118.690002,\n",
              " 89.41999799999999,\n",
              " 113.650002,\n",
              " 115.519997,\n",
              " 118.66999799999999,\n",
              " 86.989998,\n",
              " 93.83000200000001,\n",
              " 116.550003,\n",
              " 118.300003,\n",
              " 121.800003,\n",
              " 127.660004,\n",
              " 122.699997,\n",
              " 137.71000700000002,\n",
              " 163.630005,\n",
              " 118.43,\n",
              " 120.870003,\n",
              " 152.619995,\n",
              " 117.959999,\n",
              " 160.639999,\n",
              " 99.910004,\n",
              " 104.269997,\n",
              " 149.820007,\n",
              " 110.449997,\n",
              " 125.440002,\n",
              " 145.649994,\n",
              " 120.220001,\n",
              " 115.68,\n",
              " 113.029999,\n",
              " 112.150002,\n",
              " 134.050003,\n",
              " 118.059998,\n",
              " 102.610001,\n",
              " 116.339996,\n",
              " 104.68,\n",
              " 98.83000200000001,\n",
              " 116.089996,\n",
              " 91.089996,\n",
              " 92.08000200000001,\n",
              " 154.669998,\n",
              " 102.43,\n",
              " 154.770004,\n",
              " 113.68,\n",
              " 138.08999599999999,\n",
              " 91.33000200000001,\n",
              " 116.33000200000001,\n",
              " 115.66999799999999,\n",
              " 122.5438,\n",
              " 122.290001,\n",
              " 166.020004,\n",
              " 92.739998,\n",
              " 137.240005,\n",
              " 121.309998,\n",
              " 119.550003,\n",
              " 104.66999799999999,\n",
              " 135.050003,\n",
              " 122.91999799999999,\n",
              " 115.620003,\n",
              " 113.150002,\n",
              " 124.269997,\n",
              " 123.349998,\n",
              " 125.779999,\n",
              " 121.559998,\n",
              " 85.82,\n",
              " 132.449997,\n",
              " 154.869995,\n",
              " 92.059998,\n",
              " 148.970001,\n",
              " 161.880005,\n",
              " 127.199997,\n",
              " 167.350006,\n",
              " 108.559998,\n",
              " 110.440002,\n",
              " 104.209999,\n",
              " 95.769997,\n",
              " 129.470001,\n",
              " 108.349998,\n",
              " 149.119995,\n",
              " 121.730003,\n",
              " 131.699997,\n",
              " 131.96000700000002,\n",
              " 160.990005,\n",
              " 90.57,\n",
              " 173.889999,\n",
              " 128.08999599999999,\n",
              " 127.550003,\n",
              " 86.779999,\n",
              " 123.940002,\n",
              " 150.419998,\n",
              " 89.269997,\n",
              " 108.050003,\n",
              " 111.019997,\n",
              " 89.18,\n",
              " 138.369995,\n",
              " 156.220001,\n",
              " 134.66000400000001,\n",
              " 73.58000200000001,\n",
              " 152.970001,\n",
              " 126.559998,\n",
              " 126.139999,\n",
              " 127.75,\n",
              " 108.360001,\n",
              " 157.46000700000002,\n",
              " 114.0,\n",
              " 116.989998,\n",
              " 126.860001,\n",
              " 155.240005,\n",
              " 120.650002,\n",
              " 156.990005,\n",
              " 92.790001,\n",
              " 125.389999,\n",
              " 124.889999,\n",
              " 88.25,\n",
              " 91.93,\n",
              " 126.339996,\n",
              " 128.83999599999999,\n",
              " 112.889999,\n",
              " 117.360001,\n",
              " 119.739998,\n",
              " 128.179993,\n",
              " 121.480003,\n",
              " 134.199997,\n",
              " 93.900002,\n",
              " 118.900002,\n",
              " 112.300003,\n",
              " 94.779999,\n",
              " 108.699997,\n",
              " 86.709999,\n",
              " 110.260002,\n",
              " 88.639999,\n",
              " 93.239998,\n",
              " 131.320007,\n",
              " 163.08999599999999,\n",
              " 90.120003,\n",
              " 119.82,\n",
              " 133.940002,\n",
              " 125.839996,\n",
              " 127.739998,\n",
              " 101.459999,\n",
              " 89.18,\n",
              " 132.199997,\n",
              " 122.150002,\n",
              " 110.529999,\n",
              " 172.070007,\n",
              " 115.279999,\n",
              " 85.389999,\n",
              " 121.959999,\n",
              " 90.760002,\n",
              " 161.300003,\n",
              " 116.519997,\n",
              " 120.400002,\n",
              " 160.490005,\n",
              " 121.489998,\n",
              " 114.949997,\n",
              " 109.980003,\n",
              " 126.529999,\n",
              " 73.449997,\n",
              " 102.040001,\n",
              " 130.229996,\n",
              " 121.099998,\n",
              " 91.16999799999999,\n",
              " 132.08999599999999,\n",
              " 117.970001,\n",
              " 116.110001,\n",
              " 156.25,\n",
              " 161.600006,\n",
              " 110.209999,\n",
              " 135.41000400000001,\n",
              " 119.040001,\n",
              " 162.020004,\n",
              " 118.08000200000001,\n",
              " 159.699997,\n",
              " 114.43,\n",
              " 117.980003,\n",
              " 147.770004,\n",
              " 115.33000200000001,\n",
              " 126.230003,\n",
              " 165.58999599999999,\n",
              " 116.790001,\n",
              " 125.029999,\n",
              " 153.229996,\n",
              " 153.470001,\n",
              " 132.809998,\n",
              " 115.029999,\n",
              " 120.959999,\n",
              " 126.470001,\n",
              " 93.089996,\n",
              " 122.519997,\n",
              " 151.41000400000001,\n",
              " 111.66999799999999,\n",
              " 106.949997,\n",
              " 162.619995,\n",
              " 120.050003,\n",
              " 165.16000400000001,\n",
              " 131.570007,\n",
              " 116.16999799999999,\n",
              " 152.990005,\n",
              " 169.429993,\n",
              " 110.57,\n",
              " 115.379997,\n",
              " 161.199997,\n",
              " 85.43,\n",
              " 128.110001,\n",
              " 127.269997,\n",
              " 129.21000700000002,\n",
              " 125.610001,\n",
              " 124.230003,\n",
              " 91.099998,\n",
              " 151.619995,\n",
              " 96.089996,\n",
              " 136.179993,\n",
              " 90.25,\n",
              " 106.93,\n",
              " 115.470001,\n",
              " 111.540001,\n",
              " 126.309998,\n",
              " 90.91999799999999,\n",
              " 125.410004,\n",
              " 163.350006,\n",
              " 117.959999,\n",
              " 166.070007,\n",
              " 127.790001,\n",
              " 111.5,\n",
              " 127.58000200000001,\n",
              " 96.910004,\n",
              " 89.980003,\n",
              " 99.339996,\n",
              " 120.41999799999999,\n",
              " 82.199997,\n",
              " 125.370003,\n",
              " 159.429993,\n",
              " 117.099998,\n",
              " 120.730003,\n",
              " 118.650002,\n",
              " 120.620003,\n",
              " 119.480003,\n",
              " 121.18,\n",
              " 118.809998,\n",
              " 107.559998,\n",
              " 146.380005,\n",
              " 122.83000200000001,\n",
              " 115.43,\n",
              " 71.709999,\n",
              " 128.070007,\n",
              " 157.199997,\n",
              " 120.860001,\n",
              " 126.239998,\n",
              " 89.010002,\n",
              " 102.550003,\n",
              " 124.32,\n",
              " 119.910004,\n",
              " 72.150002,\n",
              " 150.75,\n",
              " 120.029999,\n",
              " 104.099998,\n",
              " 86.230003,\n",
              " 113.58000200000001,\n",
              " 172.100006,\n",
              " 121.480003,\n",
              " 161.53999299999998,\n",
              " 112.769997,\n",
              " 122.41999799999999,\n",
              " 120.940002,\n",
              " 95.989998,\n",
              " 120.760002,\n",
              " 125.32,\n",
              " 118.08000200000001,\n",
              " 97.730003,\n",
              " 154.649994,\n",
              " 120.589996,\n",
              " 143.470001,\n",
              " 160.58999599999999,\n",
              " 111.629997,\n",
              " 122.120003,\n",
              " 146.240005,\n",
              " 127.959999,\n",
              " 164.119995,\n",
              " 133.429993,\n",
              " 122.379997,\n",
              " 166.380005,\n",
              " 106.379997,\n",
              " 122.239998,\n",
              " 133.830002,\n",
              " 102.360001]"
            ]
          },
          "metadata": {
            "tags": []
          },
          "execution_count": 19
        }
      ]
    },
    {
      "cell_type": "code",
      "metadata": {
        "colab": {
          "base_uri": "https://localhost:8080/"
        },
        "id": "aC_xz8j8s59b",
        "outputId": "06920caf-7d75-4d9c-94a5-35e196b00627"
      },
      "source": [
        "test_data_preds"
      ],
      "execution_count": 20,
      "outputs": [
        {
          "output_type": "execute_result",
          "data": {
            "text/plain": [
              "array([168.47389954,  82.01489993, 116.16550018, 127.58390039,\n",
              "       120.67830125, 154.74539762, 150.49389874, 126.19830016,\n",
              "       117.48189873, 126.03610059, 116.7084008 , 172.48010114,\n",
              "       141.48989916, 167.77079831, 115.13550013, 117.49970053,\n",
              "       135.87830322, 169.81590083, 159.38030197, 156.5999985 ,\n",
              "       155.14620053, 125.16990038, 176.14999931, 157.09350388,\n",
              "       125.19120039,  93.81749973,  77.34910013, 120.79839997,\n",
              "       119.16079955, 167.45070048,  88.08760051, 125.11419986,\n",
              "        91.19610031, 117.78530021, 121.20899909, 136.48450079,\n",
              "       115.53960127, 115.23460072, 148.06579941, 107.05920107,\n",
              "       104.50120207,  87.13059776, 126.54890044, 117.97769983,\n",
              "       153.19859895, 119.6342998 , 108.50649988, 108.01009809,\n",
              "        93.36040055, 127.14479759,  75.57899998, 113.63749958,\n",
              "       121.3369997 , 111.2225992 , 118.89839898, 120.80989915,\n",
              "       159.41540002, 167.97580125, 147.06259702,  85.79459843,\n",
              "        94.16250036,  86.69499845,  90.57280056, 119.11360077,\n",
              "       126.44790029, 127.44389988, 169.7758999 , 122.38399932,\n",
              "       117.47839899,  98.35979987, 167.94630176, 142.76509805,\n",
              "       132.25410202, 121.36740198, 121.32979934, 119.62710071,\n",
              "       114.56750158, 118.55100035, 107.11750091, 127.94180076,\n",
              "       114.19449971, 107.60559998, 116.79070092, 119.81549833,\n",
              "        88.96510046,  88.30419857, 146.98460172, 127.25810055,\n",
              "       113.55500052, 110.59109821, 108.13939902,  77.01949907,\n",
              "       169.84290145, 114.07259906, 121.70399917, 127.91750199,\n",
              "       154.89139813,  91.65129931, 135.82280157, 158.97900297,\n",
              "       125.04090042, 125.22620071, 130.6437021 , 114.85640132,\n",
              "       119.90179988,  92.14259991, 110.03519883, 167.77999876,\n",
              "       157.40859957, 114.33189964, 106.77890112,  79.82039959,\n",
              "       113.26380046, 125.86990061, 107.01349944, 119.60140103,\n",
              "       155.92760288, 159.08369868, 120.27320009, 133.37600259,\n",
              "       101.34860002, 117.32649788, 119.24350042, 112.89660065,\n",
              "       102.82369944, 159.98859743,  98.98000045, 147.85269918,\n",
              "       125.45490095, 169.66339894, 125.68319822, 127.34839739,\n",
              "       127.30770166, 113.75859937, 113.22230076, 123.51049903,\n",
              "       102.24089898,  89.16959995, 124.26029963, 101.01349936,\n",
              "       107.03429905, 113.48200055, 117.31890076,  98.92809912,\n",
              "       121.71480034, 163.1458988 ,  87.36459874, 106.7358995 ,\n",
              "       117.03140102, 127.81670134, 123.99730026,  80.75949915,\n",
              "       120.26670048, 157.37769852,  87.8766997 , 110.34309956,\n",
              "       118.88669919, 173.29479927, 103.04089869, 105.50520032,\n",
              "       122.6222002 , 157.29769865,  87.7412984 ,  93.07770041,\n",
              "       112.84610038, 177.7954993 , 114.34779941, 119.26530045,\n",
              "        94.61500099, 125.63230008, 166.27580122, 115.03450107,\n",
              "       116.56940165,  88.31649857, 148.95660141, 120.28929928,\n",
              "        89.57839993, 111.59390034, 117.4137001 , 118.8034011 ,\n",
              "        88.19059966,  93.97889984, 117.02499962, 118.74810191,\n",
              "       120.49910039, 126.70069845, 121.94299976, 149.67019975,\n",
              "       165.82340053, 118.51899975, 120.29100124, 149.93490064,\n",
              "       118.61159907, 173.29339912, 105.04979933, 104.98420096,\n",
              "       149.23000153, 113.63360068, 124.75330137, 147.22239885,\n",
              "       119.67750136, 115.36550042, 112.43600027, 113.23480241,\n",
              "       141.8589019 , 117.88309762, 102.88020028, 115.95550103,\n",
              "       103.77480143,  98.52860025, 117.66870071,  90.66130017,\n",
              "        91.68580046, 153.52269889, 102.70699978, 155.35660089,\n",
              "       114.28290136, 138.29720138,  90.22589808, 115.58469957,\n",
              "       114.17709959, 122.82960038, 121.71430023, 165.42650141,\n",
              "        92.87579952, 135.42230132, 121.36349924, 120.75520066,\n",
              "       104.62880035, 142.78900292, 121.31609922, 116.58040035,\n",
              "       113.67320072, 127.0525975 , 122.71569956, 125.7577996 ,\n",
              "       121.32039991,  86.80479913, 132.61710142, 144.41280215,\n",
              "        92.65999929, 160.31129938, 159.4332026 , 126.33389871,\n",
              "       165.3365997 , 108.79999969, 110.04370102, 103.58799799,\n",
              "        94.17110035, 127.74960295, 107.05060032, 162.36309974,\n",
              "       121.83130002, 131.99310053, 130.59390202, 159.96129956,\n",
              "        90.22219805, 174.62450171, 127.76619932, 126.754998  ,\n",
              "        86.34139918, 124.66439964, 150.26249707,  89.69280005,\n",
              "       106.85629919, 109.07859995,  84.54339892, 136.37929957,\n",
              "       155.16610214, 138.95310336,  74.14470019, 152.90210057,\n",
              "       126.2954995 , 126.74910045, 127.50499852, 108.52999988,\n",
              "       156.00979958, 114.59650135, 116.73230113, 125.27399928,\n",
              "       154.1341011 , 121.19409995, 156.37259905,  93.00560049,\n",
              "       125.60750143, 125.62660031,  87.88560052,  92.13399919,\n",
              "       126.30129896, 128.02720306, 113.13030075, 117.52459719,\n",
              "       120.88470021, 127.12929801, 119.77530125, 136.51120073,\n",
              "        93.98489971, 119.96900053, 113.03060091,  94.27109943,\n",
              "       108.9174999 ,  87.49999933, 108.66529958,  89.54019973,\n",
              "        92.51310029, 131.85360319, 162.4674009 ,  89.25750038,\n",
              "       119.78450074, 133.22300148, 124.13150028, 128.30740166,\n",
              "       101.92619846,  88.74149871, 131.57250105, 120.07160053,\n",
              "       108.41929984, 167.86370044, 115.15650083,  86.53939892,\n",
              "       118.95790055,  91.0414998 , 161.78599988, 116.6232007 ,\n",
              "       121.72109987, 160.09939799, 120.09089936, 112.64839957,\n",
              "       108.3869986 , 126.80599988,  76.36510011, 103.05849965,\n",
              "       127.59950192, 121.89519919,  92.54160009, 131.66850064,\n",
              "       118.23280138, 116.12399981, 154.78890253, 158.75080049,\n",
              "       109.60149988, 154.65449807, 119.36880065, 160.39830045,\n",
              "       118.45380034, 158.58759852, 115.15469907, 116.51810022,\n",
              "       149.21919879, 114.87940073, 125.99659859, 165.16919956,\n",
              "       117.67149999, 125.19019963, 153.62850294, 153.40030254,\n",
              "       132.1657007 , 114.7057004 , 121.39550179, 124.9542008 ,\n",
              "        89.65920076, 122.95549986, 154.18750079, 111.74330037,\n",
              "       106.68569939, 161.60830038, 118.71179977, 165.79650049,\n",
              "       134.00650134, 114.86969973, 153.0416984 , 168.57889924,\n",
              "       114.55789998, 114.01520126, 159.61179906,  85.49019867,\n",
              "       127.09520034, 127.86500068, 128.79670008, 124.50950064,\n",
              "       123.83220093,  90.54410065, 153.30180036,  97.11539981,\n",
              "       137.79329973,  89.1215991 , 107.46750009, 114.90390046,\n",
              "       112.85780125, 124.04039915,  91.37009876, 125.22120057,\n",
              "       162.38999832, 119.8897991 , 165.12350067, 126.61159834,\n",
              "       112.4550003 , 127.47229985,  94.89169943,  91.05319982,\n",
              "       102.9070989 , 120.77959997,  82.95669933, 126.3156996 ,\n",
              "       160.37100415, 117.39220068, 118.3739999 , 119.67739993,\n",
              "       122.83859964, 120.04420123, 121.68959985, 118.13930052,\n",
              "       107.20969985, 148.37880012, 125.97309832, 115.69560081,\n",
              "        73.69750005, 127.7496006 , 153.5555004 , 122.46569986,\n",
              "       125.53800061,  88.66570016, 103.81289854, 124.30700016,\n",
              "       120.32450047,  73.26320083, 151.98629992, 121.14350001,\n",
              "       104.52689985,  86.43299761, 115.35039907, 172.24719788,\n",
              "       119.90690023, 160.93499744, 113.2113995 , 120.75399999,\n",
              "       118.55240114,  95.95199995, 118.8085    , 125.92200075,\n",
              "       118.66389947,  96.06800089, 153.6312017 , 122.23880012,\n",
              "       147.64549942, 159.43810265, 113.62830016, 122.51489945,\n",
              "       151.15939864, 127.08680023, 165.9980999 , 134.90010042,\n",
              "       119.97549988, 166.72469889, 108.48339911, 121.79569857,\n",
              "       139.94390109, 106.19159908])"
            ]
          },
          "metadata": {
            "tags": []
          },
          "execution_count": 20
        }
      ]
    },
    {
      "cell_type": "code",
      "metadata": {
        "colab": {
          "base_uri": "https://localhost:8080/",
          "height": 294
        },
        "id": "s1dqljIHql8l",
        "outputId": "a6b51247-0ed8-4bac-9114-6ed31c635664"
      },
      "source": [
        "plt.plot(y_test, color='blue', label = 'Actual Value')\n",
        "plt.plot(test_data_preds, color='green', label='Predicted Value')\n",
        "plt.title('Actual Price vs Predicted Price')\n",
        "plt.xlabel('Number of values')\n",
        "plt.ylabel('GLD Price')\n",
        "plt.legend()\n",
        "plt.show()\n"
      ],
      "execution_count": 21,
      "outputs": [
        {
          "output_type": "display_data",
          "data": {
            "image/png": "[encoded data removed]",
            "text/plain": [
              "<Figure size 432x288 with 1 Axes>"
            ]
          },
          "metadata": {
            "tags": [],
            "needs_background": "light"
          }
        }
      ]
    },
    {
      "cell_type": "code",
      "metadata": {
        "id": "fFSf7rAbrUKB"
      },
      "source": [
        ""
      ],
      "execution_count": 21,
      "outputs": []
    }
  ]
}
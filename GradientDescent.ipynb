{
  "nbformat": 4,
  "nbformat_minor": 0,
  "metadata": {
    "colab": {
      "name": "GradientDescent.ipynb",
      "provenance": [],
      "authorship_tag": "ABX9TyMSIjM8RXQZmnxRQHqit2rN",
      "include_colab_link": true
    },
    "kernelspec": {
      "name": "python3",
      "display_name": "Python 3"
    },
    "language_info": {
      "name": "python"
    }
  },
  "cells": [
    {
      "cell_type": "markdown",
      "metadata": {
        "id": "view-in-github",
        "colab_type": "text"
      },
      "source": [
        "<a href=\"https://colab.research.google.com/github/keithferns98/ML/blob/main/GradientDescent.ipynb\" target=\"_parent\"><img src=\"https://colab.research.google.com/assets/colab-badge.svg\" alt=\"Open In Colab\"/></a>"
      ]
    },
    {
      "cell_type": "code",
      "metadata": {
        "id": "y9n9iqHy48d3"
      },
      "source": [
        "import numpy as np\n",
        "def gradientdescent(x,y):\n",
        "  n=len(x)\n",
        "  m_curr=b_curr=0\n",
        "  iter=10\n",
        "  lr=0.001\n",
        "  for i in range(iter):\n",
        "    y_pred=m_curr*x+b_curr\n",
        "    cost=(1/n)*sum([val**2 for val in(y-y_pred)])\n",
        "    md=-(2/n)*sum(x*(y-y_pred))\n",
        "    bd=(2/n)*sum(y-y_pred)\n",
        "    m_curr=m_curr-lr*md\n",
        "    b_curr=b_curr-lr*bd\n",
        "   \n",
        "    print('m is {} and b is {} and cost is {} for {} iters '.format(m_curr,b_curr,cost,i))\n",
        "x=np.array([1,2,3,4,5])\n",
        "y=np.array([5,7,9,11,13])"
      ],
      "execution_count": 7,
      "outputs": []
    },
    {
      "cell_type": "code",
      "metadata": {
        "colab": {
          "base_uri": "https://localhost:8080/"
        },
        "id": "ydsHvoA_8CxT",
        "outputId": "5089690b-1629-4114-8eb7-bf11518fa30c"
      },
      "source": [
        "gradientdescent(x,y)"
      ],
      "execution_count": 8,
      "outputs": [
        {
          "output_type": "stream",
          "text": [
            "m is 0.062 and b is -0.018000000000000002 and cost is 89.0 for 0 iters \n",
            "m is 0.12274399999999999 and b is -0.035664 and cost is 85.51591200000001 for 1 iters \n",
            "m is 0.182257616 and b is -0.052998864 and cost is 82.172557653696 for 2 iters \n",
            "m is 0.240565941632 and b is -0.070011316032 and cost is 78.96425578445525 for 3 iters \n",
            "m is 0.297693558812288 and b is -0.08670794301427201 and cost is 75.88555455777394 for 4 iters \n",
            "m is 0.3536645481765033 and b is -0.10309519754742683 and cost is 72.93122222301913 for 5 iters \n",
            "m is 0.4085024993019048 and b is -0.11917940065346266 and cost is 70.09623822891494 for 6 iters \n",
            "m is 0.46223052072118365 and b is -0.13496674445895818 and cost is 67.37578469768583 for 7 iters \n",
            "m is 0.5148712497320713 and b is -0.150463294823549 and cost is 64.76523824337781 for 8 iters \n",
            "m is 0.5664468620069071 and b is -0.16567499391480367 and cost is 62.26016212046431 for 9 iters \n"
          ],
          "name": "stdout"
        }
      ]
    },
    {
      "cell_type": "code",
      "metadata": {
        "id": "GVA3KFhw8Jfy"
      },
      "source": [
        ""
      ],
      "execution_count": null,
      "outputs": []
    }
  ]
}
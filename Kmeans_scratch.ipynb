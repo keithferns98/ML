{
  "nbformat": 4,
  "nbformat_minor": 0,
  "metadata": {
    "colab": {
      "name": "Kmeans_scratch.ipynb",
      "provenance": [],
      "authorship_tag": "ABX9TyP27BzY0ugvDwv+z7WJMzvY",
      "include_colab_link": true
    },
    "kernelspec": {
      "name": "python3",
      "display_name": "Python 3"
    },
    "language_info": {
      "name": "python"
    }
  },
  "cells": [
    {
      "cell_type": "markdown",
      "metadata": {
        "id": "view-in-github",
        "colab_type": "text"
      },
      "source": [
        "<a href=\"https://colab.research.google.com/github/keithferns98/ML/blob/main/Kmeans_scratch.ipynb\" target=\"_parent\"><img src=\"https://colab.research.google.com/assets/colab-badge.svg\" alt=\"Open In Colab\"/></a>"
      ]
    },
    {
      "cell_type": "code",
      "metadata": {
        "id": "UZqxV2qpyqmQ"
      },
      "source": [
        "import random\n",
        "import math\n",
        "\n",
        "class Centroid:\n",
        "    def __init__(self, location):\n",
        "        self.location = location\n",
        "        self.closest_users = set()\n",
        "\n",
        "\n",
        "def get_k_means(user_feature_map, num_features_per_user, k):\n",
        "    # Don't change the following two lines of code.\n",
        "    random.seed(42)\n",
        "    # Gets the inital users, to be used as centroids.\n",
        "    inital_centroid_users = random.sample(sorted(list(user_feature_map.keys())), k)\n",
        "\n",
        "    \n",
        "    # Write your code here.\n",
        "    "
      ],
      "execution_count": 20,
      "outputs": []
    },
    {
      "cell_type": "code",
      "metadata": {
        "id": "mEIfIqQ57AyY"
      },
      "source": [
        ""
      ],
      "execution_count": null,
      "outputs": []
    },
    {
      "cell_type": "code",
      "metadata": {
        "colab": {
          "base_uri": "https://localhost:8080/",
          "height": 282
        },
        "id": "A08G0gHK29rC",
        "outputId": "746c83c3-828d-4b24-fce2-b5866eebeb40"
      },
      "source": [
        "import numpy as np\n",
        "import matplotlib.pyplot as plt\n",
        "from sklearn.datasets import make_blobs\n",
        "\n",
        "\n",
        "class KMeansClustering:\n",
        "    def __init__(self, X, num_clusters):\n",
        "        self.K = num_clusters\n",
        "        self.max_iterations = 100\n",
        "        self.plot_figure = True\n",
        "        self.num_examples = X.shape[0]\n",
        "        self.num_features = X.shape[1]\n",
        "\n",
        "    def initialize_random_centroids(self, X):\n",
        "        centroids = np.zeros((self.K, self.num_features))\n",
        "\n",
        "        for k in range(self.K):\n",
        "            centroid = X[np.random.choice(range(self.num_examples))]\n",
        "            centroids[k] = centroid\n",
        "\n",
        "        return centroids\n",
        "\n",
        "    def create_clusters(self, X, centroids):\n",
        "        # Will contain a list of the points that are associated with that specific cluster\n",
        "        clusters = [[] for _ in range(self.K)]\n",
        "\n",
        "        # Loop through each point and check which is the closest cluster\n",
        "        for point_idx, point in enumerate(X):\n",
        "            closest_centroid = np.argmin(\n",
        "                np.sqrt(np.sum((point - centroids) ** 2, axis=1))\n",
        "            )\n",
        "            clusters[closest_centroid].append(point_idx)\n",
        "\n",
        "        return clusters\n",
        "\n",
        "    def calculate_new_centroids(self, clusters, X):\n",
        "        centroids = np.zeros((self.K, self.num_features))\n",
        "        for idx, cluster in enumerate(clusters):\n",
        "            new_centroid = np.mean(X[cluster], axis=0)\n",
        "            centroids[idx] = new_centroid\n",
        "\n",
        "        return centroids\n",
        "\n",
        "    def predict_cluster(self, clusters, X):\n",
        "        y_pred = np.zeros(self.num_examples)\n",
        "\n",
        "        for cluster_idx, cluster in enumerate(clusters):\n",
        "            for sample_idx in cluster:\n",
        "                y_pred[sample_idx] = cluster_idx\n",
        "\n",
        "        return y_pred\n",
        "\n",
        "    def plot_fig(self, X, y):\n",
        "        plt.scatter(X[:, 0], X[:, 1], c=y, s=40, cmap=plt.cm.Spectral)\n",
        "        plt.show()\n",
        "\n",
        "    def fit(self, X):\n",
        "        centroids = self.initialize_random_centroids(X)\n",
        "\n",
        "        for it in range(self.max_iterations):\n",
        "            clusters = self.create_clusters(X, centroids)\n",
        "\n",
        "            previous_centroids = centroids\n",
        "            centroids = self.calculate_new_centroids(clusters, X)\n",
        "\n",
        "            diff = centroids - previous_centroids\n",
        "\n",
        "            if not diff.any():\n",
        "                print(\"Termination criterion satisfied\")\n",
        "                break\n",
        "\n",
        "        # Get label predictions\n",
        "        y_pred = self.predict_cluster(clusters, X)\n",
        "\n",
        "        if self.plot_figure:\n",
        "            self.plot_fig(X, y_pred)\n",
        "\n",
        "        return y_pred\n",
        "\n",
        "\n",
        "if __name__ == \"__main__\":\n",
        "    np.random.seed(10)\n",
        "    num_clusters = 3\n",
        "    #X, _ = make_blobs(n_samples=1000, n_features=2, centers=num_clusters)\n",
        "    X = np.vstack(((np.random.randn(150, 2)  + np.array([3, 0])),\n",
        "               (np.random.randn(100, 2)  + np.array([-3.5, 0.5])),\n",
        "               (np.random.randn(100, 2) + np.array([-0.5, -2])),\n",
        "               (np.random.randn(150, 2) + np.array([-2, -2.5])),\n",
        "               (np.random.randn(150, 2) + np.array([-5.5, -3]))))\n",
        "\n",
        "    Kmeans = KMeansClustering(X, num_clusters)\n",
        "    y_pred = Kmeans.fit(X)"
      ],
      "execution_count": 37,
      "outputs": [
        {
          "output_type": "stream",
          "text": [
            "Termination criterion satisfied\n"
          ],
          "name": "stdout"
        },
        {
          "output_type": "display_data",
          "data": {
            "image/png": "[encoded data removed]",
            "text/plain": [
              "<Figure size 432x288 with 1 Axes>"
            ]
          },
          "metadata": {
            "needs_background": "light"
          }
        }
      ]
    },
    {
      "cell_type": "code",
      "metadata": {
        "colab": {
          "base_uri": "https://localhost:8080/",
          "height": 975
        },
        "id": "8cP0xkMmiv02",
        "outputId": "30dbe712-5c03-41a5-e4af-f1e026a37973"
      },
      "source": [
        "clf=KMeansClustering(X,4)\n",
        "clf.fit(X)"
      ],
      "execution_count": 75,
      "outputs": [
        {
          "output_type": "stream",
          "text": [
            "Termination criterion satisfied\n"
          ],
          "name": "stdout"
        },
        {
          "output_type": "display_data",
          "data": {
            "image/png": "[encoded data removed]",
            "text/plain": [
              "<Figure size 432x288 with 1 Axes>"
            ]
          },
          "metadata": {
            "needs_background": "light"
          }
        },
        {
          "output_type": "execute_result",
          "data": {
            "text/plain": [
              "array([2., 2., 2., 2., 2., 2., 2., 2., 2., 2., 1., 2., 2., 2., 2., 2., 2.,\n",
              "       2., 2., 2., 2., 2., 2., 2., 2., 2., 2., 2., 2., 2., 2., 2., 2., 2.,\n",
              "       2., 2., 2., 2., 2., 2., 2., 2., 2., 2., 2., 2., 2., 2., 2., 2., 2.,\n",
              "       2., 2., 2., 2., 2., 2., 2., 2., 2., 2., 2., 2., 2., 2., 2., 2., 2.,\n",
              "       2., 2., 2., 2., 2., 2., 2., 2., 2., 2., 2., 2., 2., 2., 1., 2., 2.,\n",
              "       2., 2., 2., 2., 2., 2., 2., 2., 2., 2., 2., 2., 2., 2., 2., 2., 2.,\n",
              "       2., 2., 2., 2., 2., 2., 2., 2., 2., 2., 2., 2., 2., 2., 2., 2., 2.,\n",
              "       2., 2., 2., 2., 2., 2., 2., 2., 2., 2., 2., 2., 2., 2., 2., 2., 2.,\n",
              "       2., 2., 2., 2., 2., 2., 2., 2., 2., 2., 2., 2., 2., 2., 0., 0., 0.,\n",
              "       0., 0., 1., 0., 0., 0., 0., 0., 0., 0., 0., 0., 0., 0., 0., 0., 1.,\n",
              "       0., 0., 0., 0., 0., 0., 0., 0., 0., 0., 0., 0., 0., 0., 0., 0., 1.,\n",
              "       0., 0., 0., 0., 0., 0., 0., 0., 0., 0., 0., 0., 0., 0., 0., 0., 0.,\n",
              "       0., 0., 0., 0., 0., 0., 0., 0., 0., 0., 0., 0., 0., 0., 0., 0., 0.,\n",
              "       0., 0., 0., 0., 0., 0., 0., 0., 0., 0., 0., 0., 0., 0., 0., 0., 1.,\n",
              "       0., 0., 0., 0., 0., 0., 0., 0., 0., 0., 0., 0., 2., 1., 1., 1., 1.,\n",
              "       1., 1., 1., 1., 1., 1., 1., 1., 1., 1., 1., 1., 1., 1., 1., 1., 1.,\n",
              "       1., 1., 1., 1., 1., 1., 1., 1., 1., 1., 1., 2., 1., 1., 1., 1., 1.,\n",
              "       1., 1., 1., 2., 1., 2., 1., 1., 1., 1., 1., 1., 1., 1., 2., 1., 1.,\n",
              "       1., 1., 1., 1., 1., 1., 1., 1., 1., 2., 1., 1., 1., 1., 1., 1., 1.,\n",
              "       1., 1., 1., 1., 1., 1., 1., 1., 1., 1., 1., 1., 1., 1., 1., 1., 1.,\n",
              "       1., 1., 1., 1., 1., 1., 1., 2., 2., 1., 1., 1., 1., 1., 3., 1., 1.,\n",
              "       1., 1., 1., 1., 1., 1., 1., 1., 1., 1., 3., 1., 1., 1., 0., 1., 1.,\n",
              "       1., 1., 1., 1., 1., 1., 1., 3., 1., 1., 1., 1., 0., 1., 1., 1., 1.,\n",
              "       1., 1., 1., 1., 1., 1., 1., 1., 1., 1., 1., 1., 1., 1., 1., 1., 3.,\n",
              "       3., 1., 1., 1., 1., 1., 0., 1., 3., 1., 1., 1., 1., 1., 1., 1., 3.,\n",
              "       1., 1., 1., 1., 1., 1., 1., 1., 1., 1., 0., 1., 3., 1., 1., 1., 3.,\n",
              "       1., 1., 1., 1., 1., 1., 1., 1., 1., 1., 1., 1., 1., 1., 0., 1., 1.,\n",
              "       1., 1., 1., 1., 1., 0., 1., 1., 1., 1., 1., 1., 1., 1., 1., 1., 1.,\n",
              "       1., 1., 1., 1., 1., 1., 1., 1., 1., 1., 1., 1., 1., 3., 1., 1., 0.,\n",
              "       1., 1., 1., 1., 1., 1., 1., 3., 3., 3., 3., 3., 3., 3., 3., 3., 3.,\n",
              "       3., 3., 3., 3., 3., 3., 3., 3., 3., 3., 3., 3., 3., 3., 1., 3., 3.,\n",
              "       3., 3., 3., 3., 3., 3., 3., 3., 3., 3., 3., 3., 3., 3., 3., 3., 0.,\n",
              "       3., 3., 3., 3., 3., 3., 3., 3., 3., 3., 3., 3., 3., 3., 3., 3., 3.,\n",
              "       3., 3., 3., 3., 3., 3., 3., 3., 3., 3., 3., 3., 3., 3., 3., 3., 0.,\n",
              "       3., 3., 3., 3., 3., 3., 3., 3., 3., 3., 3., 3., 3., 3., 3., 1., 3.,\n",
              "       3., 3., 3., 0., 3., 3., 3., 3., 3., 3., 0., 3., 3., 3., 3., 3., 0.,\n",
              "       3., 3., 3., 3., 3., 3., 3., 3., 3., 3., 3., 3., 3., 3., 3., 3., 3.,\n",
              "       3., 3., 3., 3., 3., 3., 3., 3., 3., 3., 3., 3., 3., 3., 3., 3., 3.,\n",
              "       3., 3., 3., 3.])"
            ]
          },
          "metadata": {},
          "execution_count": 75
        }
      ]
    },
    {
      "cell_type": "code",
      "metadata": {
        "colab": {
          "base_uri": "https://localhost:8080/"
        },
        "id": "p_2JTcC1tkDb",
        "outputId": "5bb43fd2-ae22-4c11-fb26-1f1cbf028266"
      },
      "source": [
        "centroids"
      ],
      "execution_count": 76,
      "outputs": [
        {
          "output_type": "execute_result",
          "data": {
            "text/plain": [
              "{1: [28, 6], 2: [70, 62], 3: [57, 35], 4: [26, 22], 5: [108, 8]}"
            ]
          },
          "metadata": {},
          "execution_count": 76
        }
      ]
    },
    {
      "cell_type": "code",
      "metadata": {
        "colab": {
          "base_uri": "https://localhost:8080/"
        },
        "id": "pe8cghZV2-YI",
        "outputId": "5a86c246-ea95-4793-ec59-5c5ad5334f8f"
      },
      "source": [
        "clf"
      ],
      "execution_count": 65,
      "outputs": [
        {
          "output_type": "execute_result",
          "data": {
            "text/plain": [
              "<__main__.KMeansClustering at 0x7f723b963390>"
            ]
          },
          "metadata": {},
          "execution_count": 65
        }
      ]
    },
    {
      "cell_type": "code",
      "metadata": {
        "colab": {
          "base_uri": "https://localhost:8080/"
        },
        "id": "ZMEtmImOi8Kj",
        "outputId": "5457ff5b-72e2-46bd-dd5d-72df752cb621"
      },
      "source": [
        "X[1]"
      ],
      "execution_count": 54,
      "outputs": [
        {
          "output_type": "execute_result",
          "data": {
            "text/plain": [
              "array([ 1.45459971, -0.00838385])"
            ]
          },
          "metadata": {},
          "execution_count": 54
        }
      ]
    },
    {
      "cell_type": "code",
      "metadata": {
        "id": "dW_vpULL3DZQ"
      },
      "source": [
        "user_dfeature_map={\n",
        "    'keith':[1,2,3,4],\n",
        " 'ferns':[-4,5,7,8]}\n",
        "k=2\n"
      ],
      "execution_count": 14,
      "outputs": []
    },
    {
      "cell_type": "code",
      "metadata": {
        "id": "teCjMzqi5j-n"
      },
      "source": [
        "user_dfeature_map.keys()\n",
        "import random"
      ],
      "execution_count": 10,
      "outputs": []
    },
    {
      "cell_type": "code",
      "metadata": {
        "colab": {
          "base_uri": "https://localhost:8080/"
        },
        "id": "2LotHqi55rSi",
        "outputId": "57c4eecc-9144-4417-e65c-648066fbeea2"
      },
      "source": [
        "random.sample(sorted(list(user_dfeature_map.keys())),2)"
      ],
      "execution_count": 18,
      "outputs": [
        {
          "output_type": "execute_result",
          "data": {
            "text/plain": [
              "['ferns', 'keith']"
            ]
          },
          "metadata": {},
          "execution_count": 18
        }
      ]
    },
    {
      "cell_type": "code",
      "metadata": {
        "id": "qdrkNtvJ8GEE"
      },
      "source": [
        "import random\n",
        "import matplotlib.pyplot as plt\n",
        "user_feature_map={\n",
        "    'udi_0':[3,5,10,12,14,15,25],\n",
        "    'udi_1':[40,43,45,47,55,50,52],\n",
        "    'udi_2':[70,75,74,78,80,72,83],\n",
        "    'udi_3':[95,99,92,90,97,102,96],\n",
        "    'udi_4':[110,115,120,113,117,122,114],\n",
        "}\n",
        "random.seed(42)\n",
        "k=5\n",
        "centroids={\n",
        "    i+1:[random.randint(0,130),random.randint(0,130)]\n",
        "    for i in range(k)\n",
        "}\n",
        "\n"
      ],
      "execution_count": 66,
      "outputs": []
    },
    {
      "cell_type": "code",
      "metadata": {
        "id": "rvQjnafqQVEO"
      },
      "source": [
        "initial_centroid_users=random.sample(sorted(user_feature_map.values()),3)"
      ],
      "execution_count": 73,
      "outputs": []
    },
    {
      "cell_type": "code",
      "metadata": {
        "colab": {
          "base_uri": "https://localhost:8080/"
        },
        "id": "_y5BfjsJr0g8",
        "outputId": "1aa18848-03c5-41a1-87c9-bdd214251efb"
      },
      "source": [
        "print(initial_centroid_users)"
      ],
      "execution_count": 74,
      "outputs": [
        {
          "output_type": "stream",
          "text": [
            "[[95, 99, 92, 90, 97, 102, 96], [70, 75, 74, 78, 80, 72, 83], [3, 5, 10, 12, 14, 15, 25]]\n"
          ],
          "name": "stdout"
        }
      ]
    },
    {
      "cell_type": "code",
      "metadata": {
        "id": "gYs90tICQmSI"
      },
      "source": [
        "X\n",
        "for y in user_feature_map.values():\n",
        "  X.append(y)"
      ],
      "execution_count": 34,
      "outputs": []
    },
    {
      "cell_type": "code",
      "metadata": {
        "colab": {
          "base_uri": "https://localhost:8080/"
        },
        "id": "tutBtGm_bSCx",
        "outputId": "8065d94d-5ab5-44c3-c75f-16348741bbe9"
      },
      "source": [
        "X"
      ],
      "execution_count": 35,
      "outputs": [
        {
          "output_type": "execute_result",
          "data": {
            "text/plain": [
              "[3,\n",
              " 5,\n",
              " 10,\n",
              " 12,\n",
              " 14,\n",
              " 15,\n",
              " 25,\n",
              " [...],\n",
              " [40, 43, 45, 47, 55, 50, 52],\n",
              " [70, 75, 74, 78, 80, 72, 83],\n",
              " [95, 99, 92, 90, 97, 102, 96],\n",
              " [110, 115, 120, 113, 117, 122, 114]]"
            ]
          },
          "metadata": {},
          "execution_count": 35
        }
      ]
    },
    {
      "cell_type": "code",
      "metadata": {
        "colab": {
          "base_uri": "https://localhost:8080/"
        },
        "id": "2vg8Gf4fbUe0",
        "outputId": "699c2acc-2c96-487f-dae4-ad30d4a336fc"
      },
      "source": [
        "len(user_feature_map)"
      ],
      "execution_count": 36,
      "outputs": [
        {
          "output_type": "execute_result",
          "data": {
            "text/plain": [
              "5"
            ]
          },
          "metadata": {},
          "execution_count": 36
        }
      ]
    },
    {
      "cell_type": "markdown",
      "metadata": {
        "id": "rAW0bNgshgTI"
      },
      "source": [
        ""
      ]
    },
    {
      "cell_type": "code",
      "metadata": {
        "colab": {
          "base_uri": "https://localhost:8080/",
          "height": 167
        },
        "id": "QxGH8GzRdueB",
        "outputId": "e4dbcf32-d769-4588-ab8f-f8702b182c65"
      },
      "source": [
        "random.random(150)"
      ],
      "execution_count": 40,
      "outputs": [
        {
          "output_type": "error",
          "ename": "TypeError",
          "evalue": "ignored",
          "traceback": [
            "\u001b[0;31m---------------------------------------------------------------------------\u001b[0m",
            "\u001b[0;31mTypeError\u001b[0m                                 Traceback (most recent call last)",
            "\u001b[0;32m<ipython-input-40-dc3af54f79cf>\u001b[0m in \u001b[0;36m<module>\u001b[0;34m()\u001b[0m\n\u001b[0;32m----> 1\u001b[0;31m \u001b[0mrandom\u001b[0m\u001b[0;34m.\u001b[0m\u001b[0mrandom\u001b[0m\u001b[0;34m(\u001b[0m\u001b[0;36m150\u001b[0m\u001b[0;34m)\u001b[0m\u001b[0;34m\u001b[0m\u001b[0;34m\u001b[0m\u001b[0m\n\u001b[0m",
            "\u001b[0;31mTypeError\u001b[0m: random() takes no arguments (1 given)"
          ]
        }
      ]
    },
    {
      "cell_type": "code",
      "metadata": {
        "colab": {
          "base_uri": "https://localhost:8080/"
        },
        "id": "H4_Orsm5gjRC",
        "outputId": "940927af-7774-4834-b92e-d7d5ad6d4000"
      },
      "source": [
        "np.random.randn(150, 2)  + np.array([3, 0])"
      ],
      "execution_count": 42,
      "outputs": [
        {
          "output_type": "execute_result",
          "data": {
            "text/plain": [
              "array([[ 2.95602168e+00,  1.42107311e+00],\n",
              "       [ 4.47885303e+00,  2.17875177e-01],\n",
              "       [ 3.62306856e+00, -2.02559173e-01],\n",
              "       [ 3.67954599e+00, -3.55501223e-01],\n",
              "       [ 4.13676487e+00, -9.18670307e-01],\n",
              "       [ 2.84381473e+00,  3.95378771e-02],\n",
              "       [ 4.42447871e+00,  3.54963847e-01],\n",
              "       [ 3.77789129e+00, -1.36289948e+00],\n",
              "       [ 4.30781963e+00,  1.18996655e+00],\n",
              "       [ 3.12277981e+00, -1.01335618e-01],\n",
              "       [ 1.84752219e+00,  4.86741614e-02],\n",
              "       [ 2.08792542e+00,  1.05827393e+00],\n",
              "       [ 4.91687660e+00,  2.57305575e-01],\n",
              "       [ 4.65140526e+00, -2.01641732e+00],\n",
              "       [ 5.22116026e+00,  6.82542695e-02],\n",
              "       [ 5.72902404e+00, -6.35698308e-01],\n",
              "       [ 3.13163691e+00, -5.52710294e-01],\n",
              "       [ 4.09436999e+00,  6.47572417e-03],\n",
              "       [ 8.52513090e-01, -8.32359186e-01],\n",
              "       [ 2.99971396e+00, -1.40042012e+00],\n",
              "       [ 3.49826712e+00, -8.67690616e-01],\n",
              "       [ 1.86858233e+00, -3.44918903e-01],\n",
              "       [ 3.43887361e+00,  1.37916209e+00],\n",
              "       [ 3.44038263e+00, -1.92814395e+00],\n",
              "       [ 2.83770323e+00,  1.07994116e+00],\n",
              "       [ 3.44023178e+00,  1.90122605e+00],\n",
              "       [ 2.79638402e+00,  5.10196628e-01],\n",
              "       [ 1.43161532e+00,  4.96442681e-01],\n",
              "       [ 3.98387074e+00,  6.02379432e-01],\n",
              "       [ 3.26788158e+00, -9.61964223e-01],\n",
              "       [ 3.58005386e+00, -9.53154790e-01],\n",
              "       [ 2.68311080e+00,  6.91456355e-01],\n",
              "       [ 3.18812427e+00,  5.41926577e-01],\n",
              "       [ 3.52776552e+00,  7.60994318e-01],\n",
              "       [ 1.53687197e+00, -1.44716563e+00],\n",
              "       [ 5.36194404e+00,  6.74414787e-01],\n",
              "       [ 2.90152754e+00,  6.41764278e-01],\n",
              "       [ 3.67735843e+00,  9.19423862e-01],\n",
              "       [ 2.86133384e+00,  2.23212940e-01],\n",
              "       [ 4.62517234e+00, -8.42027681e-02],\n",
              "       [ 3.73315152e+00, -9.63932057e-01],\n",
              "       [ 2.90672335e+00, -1.38810392e+00],\n",
              "       [ 2.61197819e+00, -6.70154427e-01],\n",
              "       [ 2.69532182e+00, -6.88662298e-01],\n",
              "       [ 4.37362882e+00,  1.52628282e+00],\n",
              "       [ 2.49015523e+00, -3.59560233e-01],\n",
              "       [ 2.98850321e+00,  8.57470350e-01],\n",
              "       [ 5.04110831e+00,  7.03307368e-01],\n",
              "       [ 3.25711502e+00, -2.75641507e+00],\n",
              "       [ 4.35690034e+00,  2.30346606e-01],\n",
              "       [ 3.46671491e+00, -2.12275305e+00],\n",
              "       [ 1.47136576e+00,  9.83806939e-01],\n",
              "       [ 1.44449240e+00, -5.19058758e-01],\n",
              "       [ 2.65057905e+00, -9.70972026e-01],\n",
              "       [ 3.36537257e+00,  7.74152280e-01],\n",
              "       [ 2.40703780e+00,  2.82945580e-01],\n",
              "       [ 4.69835959e+00, -1.10264465e+00],\n",
              "       [ 2.43523181e+00, -6.74033219e-01],\n",
              "       [ 2.75176398e+00, -9.86135145e-01],\n",
              "       [ 3.09298756e+00, -1.95054977e-02],\n",
              "       [ 2.00570768e+00, -2.06358095e+00],\n",
              "       [ 1.43803572e+00, -1.16311323e+00],\n",
              "       [ 2.04980411e+00, -4.85195190e-03],\n",
              "       [ 4.15191414e+00, -3.56591888e-01],\n",
              "       [ 2.29132412e+00,  1.71389852e+00],\n",
              "       [ 5.65454870e+00, -1.17431082e-01],\n",
              "       [ 3.29927907e+00,  1.03486329e+00],\n",
              "       [ 2.67597798e+00, -1.09923467e+00],\n",
              "       [ 3.32194546e+00,  5.68099262e-01],\n",
              "       [ 3.46197961e+00,  3.66620505e-01],\n",
              "       [ 4.10759027e+00, -1.80139094e-01],\n",
              "       [ 3.51494012e+00, -4.23340258e-01],\n",
              "       [ 3.62484702e+00, -7.40901502e-01],\n",
              "       [ 2.16555178e+00,  9.49864698e-01],\n",
              "       [ 2.75464493e+00, -9.56120020e-01],\n",
              "       [ 3.39422623e+00,  8.41660921e-01],\n",
              "       [ 2.90082411e+00, -7.31089006e-01],\n",
              "       [ 1.42671459e+00, -2.56490619e-01],\n",
              "       [ 3.74792657e+00,  2.24941339e+00],\n",
              "       [ 4.45355174e+00, -9.86725641e-01],\n",
              "       [ 2.21244548e+00,  3.59262124e-02],\n",
              "       [ 3.37296288e+00, -8.93291387e-01],\n",
              "       [ 2.38792037e+00, -9.88822267e-01],\n",
              "       [ 2.56742674e+00, -7.84774730e-01],\n",
              "       [ 2.75295737e+00, -1.09617563e+00],\n",
              "       [ 3.15438959e+00, -1.07561153e-01],\n",
              "       [ 1.82335668e+00,  2.39087183e-01],\n",
              "       [ 4.06722092e+00, -2.11904735e-01],\n",
              "       [ 3.32289810e+00,  1.15820263e+00],\n",
              "       [ 3.39276830e+00, -1.13676159e+00],\n",
              "       [ 5.45344471e-01, -1.66199984e-01],\n",
              "       [ 3.37501649e+00, -1.69325198e+00],\n",
              "       [ 3.05816335e+00,  1.90017350e+00],\n",
              "       [ 2.89961325e+00, -1.24971291e+00],\n",
              "       [ 1.78961118e+00, -9.28651113e-01],\n",
              "       [ 2.32430123e+00,  2.06711432e+00],\n",
              "       [ 3.63713028e+00, -1.14683017e+00],\n",
              "       [ 3.81107786e+00,  1.76646703e+00],\n",
              "       [ 3.08830236e+00,  5.48813740e-01],\n",
              "       [ 1.62605107e+00,  1.48616249e-01],\n",
              "       [ 2.83316148e+00, -1.94419140e+00],\n",
              "       [ 1.15517559e+00, -7.51144466e-01],\n",
              "       [ 2.11380537e+00,  2.39321574e-02],\n",
              "       [ 2.81430630e+00,  6.38066263e-01],\n",
              "       [ 3.49186086e+00,  2.10214002e+00],\n",
              "       [ 8.74129240e-01, -3.67093846e+00],\n",
              "       [ 3.10755894e+00,  1.39699728e-01],\n",
              "       [ 3.74517886e+00, -1.01667321e-02],\n",
              "       [ 2.37160442e+00, -1.35319128e+00],\n",
              "       [ 3.08581475e+00,  8.01743113e-01],\n",
              "       [ 2.12002675e+00,  9.20686458e-01],\n",
              "       [ 4.37871954e+00,  9.87404493e-01],\n",
              "       [-2.77765781e-01, -9.84057834e-01],\n",
              "       [ 2.16578224e+00,  1.16104827e+00],\n",
              "       [ 3.91006258e+00, -1.71743863e+00],\n",
              "       [ 3.55607029e+00, -2.24101690e+00],\n",
              "       [ 3.89149837e+00,  4.92320904e-01],\n",
              "       [ 3.30648207e+00, -2.95756620e-01],\n",
              "       [ 3.21204872e+00, -2.05880560e+00],\n",
              "       [ 2.46540111e+00,  1.73423537e+00],\n",
              "       [ 2.58218611e+00,  5.33366509e-01],\n",
              "       [ 3.68597841e+00,  2.61393127e-01],\n",
              "       [ 3.10249748e+00, -7.91171015e-01],\n",
              "       [ 4.62435381e+00,  1.62182012e+00],\n",
              "       [ 2.23942534e+00, -2.43233242e-01],\n",
              "       [ 2.44329213e+00,  2.22164432e+00],\n",
              "       [ 2.64215571e+00, -4.58233993e-01],\n",
              "       [ 4.30591235e+00, -9.86036926e-01],\n",
              "       [ 3.64661404e+00,  6.03871912e-01],\n",
              "       [ 3.48309801e+00, -7.70583042e-01],\n",
              "       [ 1.17673225e+00,  6.31979546e-01],\n",
              "       [ 2.77239613e+00,  3.13874385e-01],\n",
              "       [ 2.78576242e+00,  3.27714675e-01],\n",
              "       [ 2.46897792e+00, -1.09696832e+00],\n",
              "       [ 1.93483678e+00, -1.36357306e+00],\n",
              "       [ 3.77643008e+00,  9.02122367e-01],\n",
              "       [ 2.57892886e+00,  1.91661726e+00],\n",
              "       [ 5.51482437e+00,  1.07051985e-01],\n",
              "       [ 3.13361237e+00, -4.86022196e-01],\n",
              "       [ 2.07667250e+00,  2.49716433e-01],\n",
              "       [ 3.62434209e+00,  1.16593924e+00],\n",
              "       [ 3.50721357e+00, -8.02037972e-02],\n",
              "       [ 2.67582848e+00, -1.23801957e+00],\n",
              "       [ 2.33289793e+00,  1.67790038e+00],\n",
              "       [ 2.24148918e+00, -5.78843110e-01],\n",
              "       [ 1.71971957e+00, -2.84807181e+00],\n",
              "       [ 4.01365456e+00,  3.53270866e-01],\n",
              "       [ 1.27347015e+00, -3.17490532e-01],\n",
              "       [ 3.32397977e+00,  6.75069817e-01],\n",
              "       [ 2.96798115e+00,  3.73508030e-01]])"
            ]
          },
          "metadata": {},
          "execution_count": 42
        }
      ]
    },
    {
      "cell_type": "code",
      "metadata": {
        "colab": {
          "base_uri": "https://localhost:8080/"
        },
        "id": "9PsB4JzLhzwN",
        "outputId": "5079f487-3a0d-4fb1-a48a-ee8cd99bcb19"
      },
      "source": [
        "4.47885303e+00"
      ],
      "execution_count": 43,
      "outputs": [
        {
          "output_type": "execute_result",
          "data": {
            "text/plain": [
              "4.47885303"
            ]
          },
          "metadata": {},
          "execution_count": 43
        }
      ]
    },
    {
      "cell_type": "code",
      "metadata": {
        "id": "9a36tRFeh8MV"
      },
      "source": [
        ""
      ],
      "execution_count": null,
      "outputs": []
    }
  ]
}